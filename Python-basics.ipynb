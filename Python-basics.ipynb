{
 "cells": [
  {
   "cell_type": "code",
   "execution_count": 1,
   "id": "8409db3c-d87c-451f-adeb-ddd363d1f176",
   "metadata": {},
   "outputs": [
    {
     "name": "stdout",
     "output_type": "stream",
     "text": [
      "hello sonam\n"
     ]
    }
   ],
   "source": [
    "print(\"hello sonam\")"
   ]
  },
  {
   "cell_type": "code",
   "execution_count": 1,
   "id": "4c2c05bd-af24-4bfa-8e30-c82d5e9af9fe",
   "metadata": {},
   "outputs": [
    {
     "name": "stdout",
     "output_type": "stream",
     "text": [
      "457\n",
      "5\n",
      "<class 'int'>\n",
      "<class 'str'>\n"
     ]
    }
   ],
   "source": [
    "x = 4       # x is of type int\n",
    "x = \"Sally\" # x is now of type str\n",
    "x = 5       # x is of type int\n",
    "y=str(457)#\"457\"\n",
    "print(y)\n",
    "print(x)\n",
    "print(type(x))\n",
    "print(type(y))"
   ]
  },
  {
   "cell_type": "code",
   "execution_count": 2,
   "id": "d0e8e750-38e1-4788-978d-98f1cfad36a6",
   "metadata": {},
   "outputs": [
    {
     "name": "stdout",
     "output_type": "stream",
     "text": [
      "nishu\n"
     ]
    }
   ],
   "source": [
    "my_name=\"nishu\"\n",
    "print(my_name)"
   ]
  },
  {
   "cell_type": "code",
   "execution_count": 4,
   "id": "2a021878-8ea0-4147-b8fe-fe73629272c5",
   "metadata": {},
   "outputs": [
    {
     "name": "stdout",
     "output_type": "stream",
     "text": [
      "20\n"
     ]
    }
   ],
   "source": [
    "x=10\n",
    "y=20\n",
    "x,y=y,x\n",
    "print(x)"
   ]
  },
  {
   "cell_type": "code",
   "execution_count": 5,
   "id": "705fe80a-6923-46aa-ada0-47ab462f73fc",
   "metadata": {},
   "outputs": [
    {
     "name": "stdout",
     "output_type": "stream",
     "text": [
      "apple\n",
      "banana\n"
     ]
    }
   ],
   "source": [
    "fruits = [\"apple\", \"banana\", \"cherry\"]\n",
    "x, y,z =fruits\n",
    "print(x)\n",
    "print(y)\n"
   ]
  },
  {
   "cell_type": "code",
   "execution_count": 4,
   "id": "3059d02f-1f76-4178-9919-1b2dc8c8f17a",
   "metadata": {},
   "outputs": [
    {
     "name": "stdout",
     "output_type": "stream",
     "text": [
      "python is awesome\n"
     ]
    }
   ],
   "source": [
    "x=\"python\"\n",
    "y=\"is\"\n",
    "z=\"awesome\"\n",
    "print(x,y,z)"
   ]
  },
  {
   "cell_type": "code",
   "execution_count": 5,
   "id": "8c659f4d-fd09-4708-bfa7-799f442fdee4",
   "metadata": {},
   "outputs": [
    {
     "name": "stdout",
     "output_type": "stream",
     "text": [
      "pythonisawesome\n"
     ]
    }
   ],
   "source": [
    "x=\"python\"\n",
    "y=\"is\"\n",
    "z=\"awesome\"\n",
    "print(x+y+z)"
   ]
  },
  {
   "cell_type": "code",
   "execution_count": 4,
   "id": "19f8e5bb-745e-4fd0-a656-7b6b41ba2f24",
   "metadata": {},
   "outputs": [
    {
     "name": "stdout",
     "output_type": "stream",
     "text": [
      "64\n"
     ]
    }
   ],
   "source": [
    "x=19\n",
    "y=45\n",
    "print(x+y)"
   ]
  },
  {
   "cell_type": "code",
   "execution_count": 9,
   "id": "8f7a2c27-47fa-4719-976f-833752017832",
   "metadata": {},
   "outputs": [
    {
     "name": "stdout",
     "output_type": "stream",
     "text": [
      "64\n"
     ]
    }
   ],
   "source": [
    "x=19\n",
    "y=45\n",
    "print(x+y)"
   ]
  },
  {
   "cell_type": "code",
   "execution_count": 10,
   "id": "51f018a1-dde7-4b48-9e96-d605b3b4bc1a",
   "metadata": {},
   "outputs": [
    {
     "name": "stdout",
     "output_type": "stream",
     "text": [
      "12nishu\n"
     ]
    }
   ],
   "source": [
    "x=\"12\"\n",
    "y=\"nishu\"\n",
    "print(x+y)"
   ]
  },
  {
   "cell_type": "code",
   "execution_count": 11,
   "id": "65578db3-36a9-4ec7-8849-f440becefbc9",
   "metadata": {},
   "outputs": [
    {
     "name": "stdout",
     "output_type": "stream",
     "text": [
      "12 nishu\n"
     ]
    }
   ],
   "source": [
    "x=12\n",
    "y=\"nishu\"\n",
    "print(x,y)"
   ]
  },
  {
   "cell_type": "code",
   "execution_count": 12,
   "id": "483a9be3-a42c-4d6f-afc9-c11577590672",
   "metadata": {},
   "outputs": [
    {
     "name": "stdout",
     "output_type": "stream",
     "text": [
      "Python is awesome\n"
     ]
    }
   ],
   "source": [
    "x = \"awesome\"\n",
    "\n",
    "def myfunc():\n",
    "  print(\"Python is \" + x)\n",
    "\n",
    "myfunc() "
   ]
  },
  {
   "cell_type": "code",
   "execution_count": 13,
   "id": "0b37fa72-7789-44dc-bdd1-7eb201863fa8",
   "metadata": {},
   "outputs": [
    {
     "name": "stdout",
     "output_type": "stream",
     "text": [
      "Nishu is genius\n",
      "Nishu is genius\n"
     ]
    }
   ],
   "source": [
    "x=\"genius\"\n",
    "def func():\n",
    "    print(\"Nishu is \"+ x)\n",
    "func()\n",
    "print(\"Nishu is \"+x)"
   ]
  },
  {
   "cell_type": "code",
   "execution_count": 14,
   "id": "14ba8e1f-019e-4033-a044-29b5e064fbb9",
   "metadata": {},
   "outputs": [
    {
     "name": "stdout",
     "output_type": "stream",
     "text": [
      "68\n"
     ]
    }
   ],
   "source": [
    "def new():\n",
    "    x=23\n",
    "    y=45\n",
    "    print(x+y)\n",
    "new()\n",
    "\n",
    "  "
   ]
  },
  {
   "cell_type": "code",
   "execution_count": 15,
   "id": "8516ceb9-cca1-4ea8-9381-cc32db9cd52a",
   "metadata": {},
   "outputs": [
    {
     "name": "stdout",
     "output_type": "stream",
     "text": [
      "68\n",
      "genius\n"
     ]
    }
   ],
   "source": [
    "def new():\n",
    "     \n",
    "    x=23\n",
    "    y=45\n",
    "    print(x+y)\n",
    "new()\n",
    "print(x)"
   ]
  },
  {
   "cell_type": "code",
   "execution_count": 16,
   "id": "c400da84-a6c4-4274-9fe2-abb194b3a6af",
   "metadata": {},
   "outputs": [
    {
     "name": "stdout",
     "output_type": "stream",
     "text": [
      "Python is a fantastic\n",
      "Python is fantastic\n"
     ]
    }
   ],
   "source": [
    "def myfunc():\n",
    " \n",
    "  global x\n",
    "  x = \"fantastic\"\n",
    "  print(\"Python is a \"+x)\n",
    "myfunc()\n",
    "\n",
    "print(\"Python is \" + x)\n"
   ]
  },
  {
   "cell_type": "code",
   "execution_count": 17,
   "id": "c4c184af-f26f-484d-aa51-30f70eb2e98d",
   "metadata": {},
   "outputs": [
    {
     "name": "stdout",
     "output_type": "stream",
     "text": [
      "apple\n",
      "banana\n",
      "cherry\n",
      "lichi\n",
      "34\n",
      "45.8\n",
      "2j\n"
     ]
    }
   ],
   "source": [
    "fruits = [\"apple\", \"banana\", \"cherry\",\"lichi\",34,45.8,2j]\n",
    "for i in fruits:\n",
    "    print(i)"
   ]
  },
  {
   "cell_type": "code",
   "execution_count": 18,
   "id": "98ae4640-5579-4611-a7a7-878fa2d4198f",
   "metadata": {},
   "outputs": [
    {
     "name": "stdout",
     "output_type": "stream",
     "text": [
      "apple\n",
      "banana\n",
      "cherry\n",
      "lichi\n",
      "20\n"
     ]
    }
   ],
   "source": [
    "fruits = (\"apple\", \"banana\", \"cherry\",\"lichi\",20)\n",
    "for i in fruits:\n",
    "    print(i)"
   ]
  },
  {
   "cell_type": "code",
   "execution_count": 19,
   "id": "347054a7-6b71-46be-9142-c14a865f7d36",
   "metadata": {},
   "outputs": [
    {
     "name": "stdout",
     "output_type": "stream",
     "text": [
      "0\n",
      "1\n",
      "2\n",
      "3\n",
      "4\n",
      "5\n",
      "6\n",
      "7\n",
      "8\n",
      "9\n"
     ]
    }
   ],
   "source": [
    "for i in range(10):\n",
    "    print(i)"
   ]
  },
  {
   "cell_type": "code",
   "execution_count": 20,
   "id": "dab51bbb-56c3-4126-a90a-7f6ddce1eb44",
   "metadata": {},
   "outputs": [
    {
     "name": "stdout",
     "output_type": "stream",
     "text": [
      "10\n",
      "11\n",
      "12\n",
      "13\n",
      "14\n",
      "15\n",
      "16\n",
      "17\n",
      "18\n",
      "19\n",
      "20\n"
     ]
    }
   ],
   "source": [
    "for i in range(10,21):\n",
    "    print(i)"
   ]
  },
  {
   "cell_type": "code",
   "execution_count": 21,
   "id": "c46dcbca-11a8-436a-b991-7e02002a9c2b",
   "metadata": {},
   "outputs": [
    {
     "name": "stdout",
     "output_type": "stream",
     "text": [
      "10\n",
      "12\n",
      "14\n",
      "16\n",
      "18\n",
      "20\n"
     ]
    }
   ],
   "source": [
    "for i in range(10,21,2):\n",
    "    print(i)"
   ]
  },
  {
   "cell_type": "code",
   "execution_count": 22,
   "id": "9f6babc0-3390-427d-b2ab-30f92a183a75",
   "metadata": {},
   "outputs": [
    {
     "name": "stdout",
     "output_type": "stream",
     "text": [
      "My name is sonam\n"
     ]
    }
   ],
   "source": [
    "print(\"My name is\",\"sonam\")"
   ]
  },
  {
   "cell_type": "code",
   "execution_count": 23,
   "id": "91d30867-0233-4a6a-bf0d-5e24bcc0db99",
   "metadata": {},
   "outputs": [
    {
     "name": "stdout",
     "output_type": "stream",
     "text": [
      "value is 29\n"
     ]
    }
   ],
   "source": [
    "print(\"value is\",29)"
   ]
  },
  {
   "cell_type": "code",
   "execution_count": 24,
   "id": "aa0e8a1e-3f0a-47f9-a1b4-fc7904b2faa4",
   "metadata": {},
   "outputs": [
    {
     "name": "stdout",
     "output_type": "stream",
     "text": [
      "my name is sonam\n"
     ]
    }
   ],
   "source": [
    "name =\"sonam\"\n",
    "print(f\"my name is {name}\")"
   ]
  },
  {
   "cell_type": "code",
   "execution_count": 25,
   "id": "2900946f-37c1-447c-96c4-a99a696d9252",
   "metadata": {},
   "outputs": [
    {
     "name": "stdout",
     "output_type": "stream",
     "text": [
      "<class 'bool'>\n"
     ]
    }
   ],
   "source": [
    "print(type(False))"
   ]
  },
  {
   "cell_type": "code",
   "execution_count": 26,
   "id": "63944dd2-7ee3-40df-8ea4-5d754e04585f",
   "metadata": {},
   "outputs": [
    {
     "name": "stdout",
     "output_type": "stream",
     "text": [
      "36\n",
      "<class 'dict'>\n"
     ]
    }
   ],
   "source": [
    "x = {\"name\" : \"John\", \"age\" : 36}\n",
    "print(x['age'])\n",
    "print(type(x))\n"
   ]
  },
  {
   "cell_type": "code",
   "execution_count": 27,
   "id": "2dd38170-41bb-4f33-808e-3e03293df5bf",
   "metadata": {},
   "outputs": [],
   "source": [
    "x = {\"apple\", \"banana\", \"cherry\"}\n"
   ]
  },
  {
   "cell_type": "code",
   "execution_count": 28,
   "id": "64f2dee5-c0d4-4dff-a82f-463326b49584",
   "metadata": {},
   "outputs": [
    {
     "name": "stdout",
     "output_type": "stream",
     "text": [
      "<class 'int'>\n"
     ]
    }
   ],
   "source": [
    "x=-567\n",
    "print(type(x))"
   ]
  },
  {
   "cell_type": "code",
   "execution_count": 29,
   "id": "396ff5c7-46b6-4c15-956f-fbdbc6c5c023",
   "metadata": {},
   "outputs": [
    {
     "name": "stdout",
     "output_type": "stream",
     "text": [
      "<class 'float'>\n",
      "<class 'float'>\n",
      "<class 'float'>\n"
     ]
    }
   ],
   "source": [
    "x = 35e3\n",
    "y = 12E4\n",
    "z = -87.7e100\n",
    "\n",
    "print(type(x))\n",
    "print(type(y))\n",
    "print(type(z))"
   ]
  },
  {
   "cell_type": "code",
   "execution_count": 30,
   "id": "ede03ce6-77a4-4bd8-b995-e18ff9268bb9",
   "metadata": {},
   "outputs": [
    {
     "name": "stdout",
     "output_type": "stream",
     "text": [
      "nishu\n",
      "658\n"
     ]
    }
   ],
   "source": [
    "x=int(658.999)\n",
    "y=str(\"nishu\")\n",
    "print(y)\n",
    "print(x)"
   ]
  },
  {
   "cell_type": "code",
   "execution_count": 31,
   "id": "153835bd-55e7-4987-a432-7d9233548a3d",
   "metadata": {},
   "outputs": [
    {
     "name": "stdout",
     "output_type": "stream",
     "text": [
      "e\n"
     ]
    },
    {
     "data": {
      "text/plain": [
       "'\\nGet the character at position 1 (remember that the first character has the position 0):\\n'"
      ]
     },
     "execution_count": 31,
     "metadata": {},
     "output_type": "execute_result"
    }
   ],
   "source": [
    "a = \"hey i am learning java\"\n",
    "print(a[1]) \n",
    "\"\"\"\n",
    "Get the character at position 1 (remember that the first character has the position 0):\n",
    "\"\"\""
   ]
  },
  {
   "cell_type": "code",
   "execution_count": 32,
   "id": "95e48827-ded4-451b-8a1a-e42b81c4ab28",
   "metadata": {},
   "outputs": [
    {
     "name": "stdout",
     "output_type": "stream",
     "text": [
      "b\n",
      "a\n",
      "n\n",
      "a\n",
      "n\n",
      "a\n"
     ]
    }
   ],
   "source": [
    "for x in \"banana\":\n",
    "    print(x)"
   ]
  },
  {
   "cell_type": "code",
   "execution_count": 33,
   "id": "0c245e6a-142b-4850-a74b-df06940f48cc",
   "metadata": {},
   "outputs": [
    {
     "name": "stdout",
     "output_type": "stream",
     "text": [
      "13\n"
     ]
    }
   ],
   "source": [
    "a = \"Hello, World!\"\n",
    "print(len(a))"
   ]
  },
  {
   "cell_type": "code",
   "execution_count": 34,
   "id": "0e72a389-16b6-4574-a5c5-dfaa636ed7eb",
   "metadata": {},
   "outputs": [
    {
     "name": "stdout",
     "output_type": "stream",
     "text": [
      "True\n"
     ]
    }
   ],
   "source": [
    " txt = \"The best things in life are free!\"\n",
    "print(\"free\" in txt)\n",
    "#To check if a certain phrase or character is present in a string, we can use the keyword in."
   ]
  },
  {
   "cell_type": "code",
   "execution_count": 35,
   "id": "4a34575c-e073-4162-ae55-0d79f61e644e",
   "metadata": {},
   "outputs": [
    {
     "name": "stdout",
     "output_type": "stream",
     "text": [
      "yes Convent is present\n"
     ]
    }
   ],
   "source": [
    "school=\"my school name is Sacred Heart Convent School\"\n",
    "if \"Convent\" in school:\n",
    "    print(\"yes\",\"Convent is present\") "
   ]
  },
  {
   "cell_type": "code",
   "execution_count": 36,
   "id": "3c95d732-c3a3-452b-b29e-6830d353f15c",
   "metadata": {},
   "outputs": [
    {
     "name": "stdout",
     "output_type": "stream",
     "text": [
      "not present\n"
     ]
    }
   ],
   "source": [
    "school=\"my school name is Sacred Heart Convent School\"\n",
    "if \"Conventian\" in school:\n",
    "    print(\"yes\",\"Convent is present\") \n",
    "else:\n",
    "    print(\"not present\")"
   ]
  },
  {
   "cell_type": "code",
   "execution_count": 37,
   "id": "31117b41-00bd-4752-86a7-a6a118f3a64a",
   "metadata": {},
   "outputs": [
    {
     "name": "stdout",
     "output_type": "stream",
     "text": [
      "llo\n"
     ]
    }
   ],
   "source": [
    "b = \"Hello, World!\"\n",
    "print(b[2:5])\n",
    "#slicing in python== substring in java"
   ]
  },
  {
   "cell_type": "code",
   "execution_count": 38,
   "id": "13a5d4a5-6feb-42f8-ab48-c1821913881d",
   "metadata": {},
   "outputs": [
    {
     "name": "stdout",
     "output_type": "stream",
     "text": [
      "Hello\n",
      "llo, World!\n"
     ]
    }
   ],
   "source": [
    "b = \"Hello, World!\"\n",
    "print(b[:5])\n",
    "print(b[2:])"
   ]
  },
  {
   "cell_type": "code",
   "execution_count": 39,
   "id": "bf119f10-5d5e-47f0-82ed-86b2a8317c2d",
   "metadata": {},
   "outputs": [
    {
     "name": "stdout",
     "output_type": "stream",
     "text": [
      "orl\n"
     ]
    }
   ],
   "source": [
    "b = \"Hello, World!\"\n",
    "print(b[-5:-2]) \n",
    "#Use negative indexes to start the slice from the end of the string:"
   ]
  },
  {
   "cell_type": "code",
   "execution_count": 40,
   "id": "b856ead0-c6cd-4afd-96eb-a9becc8c4300",
   "metadata": {},
   "outputs": [
    {
     "name": "stdout",
     "output_type": "stream",
     "text": [
      "HELLO, WORLD!\n",
      "hello, world!\n"
     ]
    }
   ],
   "source": [
    "a = \"Hello, World!\"\n",
    "print(a.upper())\n",
    "print(a.lower())"
   ]
  },
  {
   "cell_type": "code",
   "execution_count": 41,
   "id": "a5003bb5-b91a-40e6-9c7f-d47b167ee28c",
   "metadata": {},
   "outputs": [
    {
     "name": "stdout",
     "output_type": "stream",
     "text": [
      "Hello, World!\n"
     ]
    }
   ],
   "source": [
    "#The strip() method removes any whitespace from the beginning or the end:\n",
    "a = \" Hello, World! \"\n",
    "print(a.strip()) # returns \"Hello, World!\" "
   ]
  },
  {
   "cell_type": "code",
   "execution_count": 42,
   "id": "69b355fb-8d74-4830-987f-1e8482103bcf",
   "metadata": {},
   "outputs": [
    {
     "name": "stdout",
     "output_type": "stream",
     "text": [
      "Jello, World!\n"
     ]
    }
   ],
   "source": [
    "#The replace() method replaces a string with another string:\n",
    "a = \"Hello, World!\"\n",
    "print(a.replace(\"H\", \"J\"))"
   ]
  },
  {
   "cell_type": "code",
   "execution_count": 43,
   "id": "764991e2-f1a5-472e-bbd2-c4581a628a5a",
   "metadata": {},
   "outputs": [
    {
     "name": "stdout",
     "output_type": "stream",
     "text": [
      "['Hello', ' World!']\n",
      "['The best', ' things in', ' life are free!']\n"
     ]
    }
   ],
   "source": [
    "#The split() method splits the string into substrings if it finds instances of the separator:\n",
    "a = \"Hello, World!\"\n",
    "print(a.split(\",\"))\n",
    "b=\"The best, things in, life are free!\"\n",
    "print(b.split(\",\"))"
   ]
  },
  {
   "cell_type": "code",
   "execution_count": 44,
   "id": "7bc2a1cf-9415-4d44-95a4-ec36c760e057",
   "metadata": {},
   "outputs": [
    {
     "name": "stdout",
     "output_type": "stream",
     "text": [
      "HelloWorld\n"
     ]
    }
   ],
   "source": [
    "a = \"Hello\"\n",
    "b = \"World\"\n",
    "c = a + b\n",
    "print(c)"
   ]
  },
  {
   "cell_type": "code",
   "execution_count": 45,
   "id": "fbcefb9e-30a2-4c47-a995-ae9aa5a54afb",
   "metadata": {},
   "outputs": [
    {
     "name": "stdout",
     "output_type": "stream",
     "text": [
      "Hello World\n"
     ]
    }
   ],
   "source": [
    "a = \"Hello\"\n",
    "b = \"World\"\n",
    "c = a + \" \" + b\n",
    "print(c)\n",
    "\n"
   ]
  },
  {
   "cell_type": "code",
   "execution_count": null,
   "id": "db2983d3-57e0-4bb5-9ed3-84d093494eea",
   "metadata": {},
   "outputs": [],
   "source": []
  },
  {
   "cell_type": "code",
   "execution_count": 46,
   "id": "6d399591-3331-4c75-8364-7a77425ccb9e",
   "metadata": {},
   "outputs": [
    {
     "name": "stdout",
     "output_type": "stream",
     "text": [
      "My name is John, I am 36\n"
     ]
    }
   ],
   "source": [
    "\n",
    "#specify a string as an f-string, simply put an f in front of the string literal, and add curly brackets {} \n",
    "#as placeholders for variables and other operations.\n",
    "age = 36\n",
    "txt = f\"My name is John, I am {age}\"\n",
    "print(txt)\n"
   ]
  },
  {
   "cell_type": "code",
   "execution_count": 47,
   "id": "dc184315-319a-45bc-8333-abb84e5ffe5b",
   "metadata": {},
   "outputs": [
    {
     "name": "stdout",
     "output_type": "stream",
     "text": [
      "My name is John, I am 36\n"
     ]
    }
   ],
   "source": [
    "age1 = 36\n",
    "txt = f\"My name is John, I am {age1}\"\n",
    "print(txt)"
   ]
  },
  {
   "cell_type": "code",
   "execution_count": 48,
   "id": "33c105d7-8965-406b-910f-bd0131e6482a",
   "metadata": {},
   "outputs": [
    {
     "name": "stdout",
     "output_type": "stream",
     "text": [
      "today i earned 56\n"
     ]
    }
   ],
   "source": [
    "price =56\n",
    "print(f\"today i earned {price}\")"
   ]
  },
  {
   "cell_type": "code",
   "execution_count": 50,
   "id": "f614467b-656e-4160-a472-f59aba02d3ce",
   "metadata": {},
   "outputs": [
    {
     "name": "stdout",
     "output_type": "stream",
     "text": [
      "The price is 59.10 dollars\n"
     ]
    }
   ],
   "source": [
    "price = 59.1\n",
    "txt = f\"The price is {price:.2f} dollars\"\n",
    "print(txt)"
   ]
  },
  {
   "cell_type": "code",
   "execution_count": 51,
   "id": "0e61b01d-d38d-444f-a3ed-63dde1c08faa",
   "metadata": {},
   "outputs": [
    {
     "name": "stdout",
     "output_type": "stream",
     "text": [
      "The price is 1180 dollars\n"
     ]
    }
   ],
   "source": [
    "txt = f\"The price is {20 * 59} dollars\"\n",
    "print(txt)"
   ]
  },
  {
   "cell_type": "code",
   "execution_count": 53,
   "id": "82b3df21-b1c0-4d6c-adfb-28e4fc90601e",
   "metadata": {},
   "outputs": [
    {
     "name": "stdout",
     "output_type": "stream",
     "text": [
      "We are the so-called \"Vikings\" from the north.\n"
     ]
    }
   ],
   "source": [
    "#You will get an error if you use double quotes inside a string that is surrounded by double quotes:\n",
    "#txt = \"We are the so-called \"Vikings\" from the north.\"\n",
    "#To fix this problem, use the escape character \\\":\n",
    "txt = \"We are the so-called \\\"Vikings\\\" from the north.\"\n",
    "print(txt)"
   ]
  },
  {
   "cell_type": "code",
   "execution_count": 60,
   "id": "1941eb65-1c70-498c-a467-6388f48b7e1f",
   "metadata": {
    "scrolled": true
   },
   "outputs": [
    {
     "data": {
      "text/plain": [
       "'\\nhHknkjnkjnj njbnjjinj njbhjbi\\nknjnijbi\\n'"
      ]
     },
     "execution_count": 60,
     "metadata": {},
     "output_type": "execute_result"
    }
   ],
   "source": [
    "\"\"\"\n",
    "hHknkjnkjnj njbnjjinj njbhjbi\n",
    "knjnijbi\n",
    "\"\"\"\n"
   ]
  },
  {
   "cell_type": "code",
   "execution_count": 59,
   "id": "ab321186-06c3-4771-bc72-fac061e55930",
   "metadata": {},
   "outputs": [
    {
     "name": "stdout",
     "output_type": "stream",
     "text": [
      "These are string functions\n"
     ]
    }
   ],
   "source": [
    "print(\"These are string functions\")"
   ]
  },
  {
   "cell_type": "code",
   "execution_count": 61,
   "id": "ccd7475a-132a-4c43-a787-f5b1c5b490e3",
   "metadata": {},
   "outputs": [
    {
     "data": {
      "text/plain": [
       "'hello world'"
      ]
     },
     "execution_count": 61,
     "metadata": {},
     "output_type": "execute_result"
    }
   ],
   "source": [
    "\"hello world\""
   ]
  },
  {
   "cell_type": "code",
   "execution_count": 30,
   "id": "1a48f348-74d4-4182-aa81-cb162771032b",
   "metadata": {},
   "outputs": [
    {
     "name": "stdout",
     "output_type": "stream",
     "text": [
      "hey,i am nishu\n"
     ]
    }
   ],
   "source": [
    "\"\"\"\n",
    "\n",
    "capitalize()\tConverts the first character to upper case\n",
    "casefold()\tConverts string into lower case\n",
    "center()\tReturns a centered string\n",
    "count()\tReturns the number of times a specified value occurs in a string\n",
    "encode()\tReturns an encoded version of the string\n",
    "endswith()\tReturns true if the string ends with the specified value\n",
    "expandtabs()\tSets the tab size of the string\n",
    "find()\tSearches the string for a specified value and returns the position of where it was found\n",
    "format()\tFormats specified values in a string\n",
    "format_map()\tFormats specified values in a string\n",
    "index()\tSearches the string for a specified value and returns the position of where it was found\n",
    "isalnum()\tReturns True if all characters in the string are alphanumeric\n",
    "isalpha()\tReturns True if all characters in the string are in the alphabet\n",
    "isascii()\tReturns True if all characters in the string are ascii characters\n",
    "isdecimal()\tReturns True if all characters in the string are decimals\n",
    "isdigit()\tReturns True if all characters in the string are digits\n",
    "isidentifier()\tReturns True if the string is an identifier\n",
    "islower()\tReturns True if all characters in the string are lower case\n",
    "isnumeric()\tReturns True if all characters in the string are numeric\n",
    "isprintable()\tReturns True if all characters in the string are printable\n",
    "isspace()\tReturns True if all characters in the string are whitespaces\n",
    "istitle() \tReturns True if the string follows the rules of a title\n",
    "isupper()\tReturns True if all characters in the string are upper case\n",
    "join()\tJoins the elements of an iterable to the end of the string\n",
    "ljust()\tReturns a left justified version of the string\n",
    "lower()\tConverts a string into lower case\n",
    "lstrip()\tReturns a left trim version of the string\n",
    "maketrans()\tReturns a translation table to be used in translations\n",
    "partition()\tReturns a tuple where the string is parted into three parts\n",
    "replace()\tReturns a string where a specified value is replaced with a specified value\n",
    "rfind()\tSearches the string for a specified value and returns the last position of where it was found\n",
    "rindex()\tSearches the string for a specified value and returns the last position of where it was found\n",
    "rjust()\tReturns a right justified version of the string\n",
    "rpartition()\tReturns a tuple where the string is parted into three parts\n",
    "rsplit()\tSplits the string at the specified separator, and returns a list\n",
    "rstrip()\tReturns a right trim version of the string\n",
    "split()\tSplits the string at the specified separator, and returns a list\n",
    "splitlines()\tSplits the string at line breaks and returns a list\n",
    "startswith()\tReturns true if the string starts with the specified value\n",
    "strip()\tReturns a trimmed version of the string\n",
    "swapcase()\tSwaps cases, lower case becomes upper case and vice versa\n",
    "title()\tConverts the first character of each word to upper case\n",
    "translate()\tReturns a translated string\n",
    "upper()\tConverts a string into upper case\n",
    "zfill()\tFills the string with a specified number of 0 values at the beginning\n",
    "\"\"\"\n",
    "print(\"hey,i am nishu\")"
   ]
  },
  {
   "cell_type": "code",
   "execution_count": 8,
   "id": "37b5092c-34dd-475c-aded-90d32a2d8d57",
   "metadata": {},
   "outputs": [
    {
     "name": "stdout",
     "output_type": "stream",
     "text": [
      "Mynameisnishu kumari \n",
      "mynameisnishu kumari \n",
      "              myNameIsNishu Kumari                \n",
      "1\n",
      "True\n"
     ]
    }
   ],
   "source": [
    "a=\"myNameIsNishu Kumari \"\n",
    "print(a.capitalize())\n",
    "print(a.casefold())\n",
    "print(a.center(50))\n",
    "print(a.count(\" Kumari\"))\n",
    "print(a.endswith(\" \"))"
   ]
  },
  {
   "cell_type": "code",
   "execution_count": 9,
   "id": "d3d00eaf-1d9e-462a-a21b-096065ecd7a9",
   "metadata": {},
   "outputs": [
    {
     "name": "stdout",
     "output_type": "stream",
     "text": [
      "       banana       \n"
     ]
    }
   ],
   "source": [
    " txt = \"banana\"\n",
    "\n",
    "x = txt.center(20)\n",
    "\n",
    "print(x) "
   ]
  },
  {
   "cell_type": "code",
   "execution_count": 16,
   "id": "2dfecdcc-aa1d-4abe-8dbd-b0772330f567",
   "metadata": {},
   "outputs": [
    {
     "name": "stdout",
     "output_type": "stream",
     "text": [
      "*******banana*******\n"
     ]
    }
   ],
   "source": [
    "txt = \"banana\"\n",
    "\n",
    "x = txt.center(20, \"*\")\n",
    "\n",
    "print(x) "
   ]
  },
  {
   "cell_type": "code",
   "execution_count": 18,
   "id": "e6b8d99b-e339-4e48-ad04-3977b4bb65a1",
   "metadata": {},
   "outputs": [
    {
     "name": "stdout",
     "output_type": "stream",
     "text": [
      "2\n"
     ]
    }
   ],
   "source": [
    "txt = \"I love apples, apple are my favorite fruit\"\n",
    "\n",
    "x = txt.count(\"apple\")\n",
    "\n",
    "print(x) "
   ]
  },
  {
   "cell_type": "code",
   "execution_count": 21,
   "id": "c35ea741-f5f7-4f1b-97bb-2f88b7d45cdf",
   "metadata": {},
   "outputs": [
    {
     "name": "stdout",
     "output_type": "stream",
     "text": [
      "2\n"
     ]
    }
   ],
   "source": [
    "#string.count(value, start, end) \n",
    "txt = \"I love apples, apple are my favorite fruit\"\n",
    "\n",
    "x = txt.count(\"apple\", 5, 24)\n",
    "\n",
    "print(x) "
   ]
  },
  {
   "cell_type": "code",
   "execution_count": 22,
   "id": "fdad2321-ded1-4012-9a58-cac17ca16dbe",
   "metadata": {},
   "outputs": [
    {
     "name": "stdout",
     "output_type": "stream",
     "text": [
      "b'My name is St\\xc3\\xa5le'\n"
     ]
    }
   ],
   "source": [
    "txt = \"My name is Ståle\"\n",
    "\n",
    "x = txt.encode()\n",
    "\n",
    "print(x) "
   ]
  },
  {
   "cell_type": "code",
   "execution_count": 11,
   "id": "b32a384f-19a0-43d5-b8a1-8d4194faad5c",
   "metadata": {},
   "outputs": [
    {
     "name": "stdout",
     "output_type": "stream",
     "text": [
      "b'My name is St\\\\xe5le'\n",
      "b'My name is Stle'\n",
      "b'My name is St\\\\N{LATIN SMALL LETTER A WITH RING ABOVE}le'\n",
      "b'My name is St?le'\n",
      "b'My name is St&#229;le'\n"
     ]
    }
   ],
   "source": [
    "\"\"\"\n",
    "'backslashreplace'\t- uses a backslash instead of the character that could not be encoded\n",
    "'ignore'\t- ignores the characters that cannot be encoded\n",
    "'namereplace'\t- replaces the character with a text explaining the character\n",
    "'strict'\t- Default, raises an error on failure\n",
    "'replace'\t- replaces the character with a questionmark\n",
    "'xmlcharrefreplace'\t- replaces the character with an xml character\n",
    "\"\"\"\n",
    "txt = \"My name is Ståle\"\n",
    "print(txt.encode(encoding=\"ascii\",errors=\"backslashreplace\"))\n",
    "print(txt.encode(encoding=\"ascii\",errors=\"ignore\"))\n",
    "print(txt.encode(encoding=\"ascii\",errors=\"namereplace\"))\n",
    "print(txt.encode(encoding=\"ascii\",errors=\"replace\"))\n",
    "print(txt.encode(encoding=\"ascii\",errors=\"xmlcharrefreplace\"))"
   ]
  },
  {
   "cell_type": "code",
   "execution_count": 12,
   "id": "646e2b0b-ff27-4bca-87b0-0c79d050363e",
   "metadata": {},
   "outputs": [
    {
     "name": "stdout",
     "output_type": "stream",
     "text": [
      "True\n"
     ]
    }
   ],
   "source": [
    "#endswith()\tReturns true if the string ends with the specified value\n",
    "txt = \"I love apples, apple are my favorite fruit\"\n",
    "print(txt.endswith(\"t\"))\n"
   ]
  },
  {
   "cell_type": "code",
   "execution_count": 32,
   "id": "3d30f084-db69-4f2b-a0aa-04a3fa78616a",
   "metadata": {},
   "outputs": [
    {
     "name": "stdout",
     "output_type": "stream",
     "text": [
      "True\n"
     ]
    }
   ],
   "source": [
    "txt = \"Company12\"\n",
    "\n",
    "x = txt.isalnum()\n",
    "\n",
    "print(x) "
   ]
  },
  {
   "cell_type": "code",
   "execution_count": 33,
   "id": "c3bb26d2-6948-4dfb-98d9-cac3a223f61c",
   "metadata": {},
   "outputs": [
    {
     "name": "stdout",
     "output_type": "stream",
     "text": [
      "False\n"
     ]
    }
   ],
   "source": [
    "txt = \"Company 12\"\n",
    "\n",
    "x = txt.isalnum()\n",
    "\n",
    "print(x) "
   ]
  },
  {
   "cell_type": "code",
   "execution_count": 34,
   "id": "900c9f14-7715-417b-9bf3-c9690378d6dd",
   "metadata": {},
   "outputs": [
    {
     "name": "stdout",
     "output_type": "stream",
     "text": [
      "True\n"
     ]
    }
   ],
   "source": [
    "#isalpha return true if all are alphabet\n",
    "\"\"\"\n",
    "isalnum()\tReturns True if all characters in the string are alphanumeric\n",
    "isalpha()\tReturns True if all characters in the string are in the alphabet\n",
    "\"\"\"\n",
    "txt = \"Company123\"\n",
    "\n",
    "x = txt.isascii()\n",
    "\n",
    "print(x) "
   ]
  },
  {
   "cell_type": "code",
   "execution_count": 36,
   "id": "a15c1934-cf40-4be9-8365-16c0d98439cd",
   "metadata": {},
   "outputs": [
    {
     "name": "stdout",
     "output_type": "stream",
     "text": [
      "True\n",
      "False\n"
     ]
    }
   ],
   "source": [
    "txt = \"50800\"\n",
    "\n",
    "x = txt.isdigit()\n",
    "\n",
    "print(x) \n",
    "a=\"2^16\"\n",
    "print(a.isdigit())"
   ]
  },
  {
   "cell_type": "code",
   "execution_count": 39,
   "id": "d3fca3d1-4f73-44d3-8c6d-119320d9c49c",
   "metadata": {},
   "outputs": [
    {
     "name": "stdout",
     "output_type": "stream",
     "text": [
      "False\n",
      "True\n"
     ]
    }
   ],
   "source": [
    "#A string is considered a valid identifier if it only contains alphanumeric letters (a-z) and (0-9), or \n",
    "#underscores (_). A valid identifier cannot start with a number, or contain any spaces.\n",
    "a=\"3nishu\"\n",
    "print(a.isidentifier())\n",
    "b=\"nishu4\"\n",
    "print(b.isidentifier())"
   ]
  },
  {
   "cell_type": "code",
   "execution_count": 45,
   "id": "eb204bb1-05f0-46d2-ba2c-a20449a416d3",
   "metadata": {},
   "outputs": [
    {
     "name": "stdout",
     "output_type": "stream",
     "text": [
      "False\n",
      "True\n",
      "False\n"
     ]
    }
   ],
   "source": [
    "\n",
    "#Check if all the characters in the text are in lower case:\n",
    "a = \"Hello world!\"\n",
    "b = \"hello 123\"\n",
    "c = \"mynameisPeter\"\n",
    "\n",
    "print(a.islower())\n",
    "print(b.islower())\n",
    "print(c.islower())"
   ]
  },
  {
   "cell_type": "code",
   "execution_count": 47,
   "id": "a1297d05-7e85-4419-a242-b6287501985e",
   "metadata": {},
   "outputs": [
    {
     "name": "stdout",
     "output_type": "stream",
     "text": [
      "True\n",
      "True\n",
      "False\n",
      "False\n",
      "False\n",
      "True\n"
     ]
    }
   ],
   "source": [
    "\"\"\"\n",
    "The isnumeric() method returns True if all the characters are numeric (0-9), otherwise False.\n",
    "\n",
    "Exponents, like ² and ¾ are also considered to be numeric values.\n",
    "\n",
    "\"-1\" and \"1.5\" are NOT considered numeric values, because all the characters in the string must be numeric, and the - and the . are not.\n",
    "\"\"\"\n",
    "a = \"\\u0030\" #unicode for 0\n",
    "b = \"\\u00B2\" #unicode for &sup2;\n",
    "c = \"10km2\"\n",
    "d = \"-1\"\n",
    "e = \"1.5\"\n",
    "f=\"777\"\n",
    "print(a.isnumeric())\n",
    "print(b.isnumeric())\n",
    "print(c.isnumeric())\n",
    "print(d.isnumeric())\n",
    "print(e.isnumeric())\n",
    "print(f.isnumeric())"
   ]
  },
  {
   "cell_type": "code",
   "execution_count": 48,
   "id": "ae91b0e2-3277-4852-b933-405a7db88ad6",
   "metadata": {},
   "outputs": [
    {
     "name": "stdout",
     "output_type": "stream",
     "text": [
      "False\n"
     ]
    }
   ],
   "source": [
    "#In printable function space is allowed but \\n is not allowed\n",
    "txt = \"Hello!\\nAre you #1?\"\n",
    "\n",
    "x = txt.isprintable()\n",
    "\n",
    "print(x) "
   ]
  },
  {
   "cell_type": "code",
   "execution_count": 14,
   "id": "0d371ca3-7e5e-4216-810b-827650b24df9",
   "metadata": {},
   "outputs": [
    {
     "name": "stdout",
     "output_type": "stream",
     "text": [
      "False\n",
      "False\n",
      "False\n",
      "False\n",
      "True\n"
     ]
    }
   ],
   "source": [
    "#he isspace() method returns True if all the characters in a string are whitespaces, otherwise False.\n",
    "a=\"nishu\"\n",
    "b= \"  nishu\"\n",
    "c=\" i a n i s h u \"\n",
    "d=\"iAm Nishu\"\n",
    "e=\"     \"\n",
    "print(a.isspace())\n",
    "print(b.isspace())\n",
    "print(c.isspace())\n",
    "print(d.isspace())\n",
    "print(e.isspace())"
   ]
  },
  {
   "cell_type": "code",
   "execution_count": 52,
   "id": "163cd51c-4f3c-43eb-98c7-ea334ceaff57",
   "metadata": {},
   "outputs": [
    {
     "name": "stdout",
     "output_type": "stream",
     "text": [
      "True\n"
     ]
    }
   ],
   "source": [
    "txt = \"   \"\n",
    "\n",
    "x = txt.isspace()\n",
    "\n",
    "print(x) "
   ]
  },
  {
   "cell_type": "code",
   "execution_count": 53,
   "id": "31651ff4-00db-4313-bdb2-32b9f738f862",
   "metadata": {},
   "outputs": [
    {
     "name": "stdout",
     "output_type": "stream",
     "text": [
      "False\n",
      "False\n",
      "True\n"
     ]
    }
   ],
   "source": [
    "#The isupper() method returns True if all the characters are in upper case, otherwise False.\n",
    "a = \"Hello World!\"\n",
    "b = \"hello 123\"\n",
    "c = \"MY NAME IS PETER\"\n",
    "\n",
    "print(a.isupper())\n",
    "print(b.isupper())\n",
    "print(c.isupper())"
   ]
  },
  {
   "cell_type": "code",
   "execution_count": 10,
   "id": "38af1ffd-ddd9-4415-aa75-f22087d0bd2f",
   "metadata": {},
   "outputs": [
    {
     "name": "stdout",
     "output_type": "stream",
     "text": [
      "1\n"
     ]
    }
   ],
   "source": [
    "print(15//8)"
   ]
  },
  {
   "cell_type": "code",
   "execution_count": 12,
   "id": "cdd2fd0b-3267-43cf-b260-e8fc65b7f66a",
   "metadata": {},
   "outputs": [
    {
     "name": "stdout",
     "output_type": "stream",
     "text": [
      "3\n"
     ]
    }
   ],
   "source": [
    "x=x&3\n",
    "print(x)"
   ]
  },
  {
   "cell_type": "code",
   "execution_count": 1,
   "id": "a48147d3-714f-4108-b979-e6907e7abc2a",
   "metadata": {},
   "outputs": [
    {
     "name": "stdout",
     "output_type": "stream",
     "text": [
      "16\n"
     ]
    }
   ],
   "source": [
    "print(2**4)"
   ]
  },
  {
   "cell_type": "code",
   "execution_count": 2,
   "id": "9735d7e3-13a2-461c-8855-5707ea32f48c",
   "metadata": {},
   "outputs": [
    {
     "name": "stdout",
     "output_type": "stream",
     "text": [
      "Floor division with a negative dividend and positive divisor : -4\n"
     ]
    }
   ],
   "source": [
    "# The result of dividing -17 by 5 is -3.4, but floor division returns the largest integer less than or equal to the result. Therefore, the result is -4.\n",
    "# floor division returns the largest integer less than or equal to the result. \n",
    "result4 = -17 // 5\n",
    "print(\"Floor division with a negative dividend and positive divisor :\", result4)\n"
   ]
  },
  {
   "cell_type": "code",
   "execution_count": 9,
   "id": "469ff2aa-deca-4a4d-a60d-a8193cbe8354",
   "metadata": {},
   "outputs": [
    {
     "name": "stdout",
     "output_type": "stream",
     "text": [
      "yes\n"
     ]
    }
   ],
   "source": [
    "if 16>12 and 5<78 :\n",
    "    print(\"yes\")\n",
    "else:\n",
    "    print(\"no\")"
   ]
  },
  {
   "cell_type": "code",
   "execution_count": 10,
   "id": "f7a5122f-0ba0-46da-b9d3-b3f31a48360b",
   "metadata": {},
   "outputs": [
    {
     "name": "stdout",
     "output_type": "stream",
     "text": [
      "2\n"
     ]
    }
   ],
   "source": [
    "print(2&3)"
   ]
  },
  {
   "cell_type": "code",
   "execution_count": 13,
   "id": "01022010-e84d-46f5-936f-d7a0564e6e41",
   "metadata": {},
   "outputs": [
    {
     "name": "stdout",
     "output_type": "stream",
     "text": [
      "7\n"
     ]
    }
   ],
   "source": [
    "print(5|7)"
   ]
  },
  {
   "cell_type": "code",
   "execution_count": 14,
   "id": "b36aba73-d85c-4ef5-8b9f-d97f3b242f7a",
   "metadata": {},
   "outputs": [
    {
     "data": {
      "text/plain": [
       "'\\nPRECEDENCE ORDER :-\\n() \\tParentheses \\t\\n** \\tExponentiation \\t\\n+x  -x  ~x \\tUnary plus, unary minus, and bitwise NOT \\t\\n*  /  //  % \\tMultiplication, division, floor division, and modulus \\t\\n+  - \\tAddition and subtraction \\t\\n<<  >> \\tBitwise left and right shifts \\t\\n& \\tBitwise AND \\t\\n^ \\tBitwise XOR \\t\\n| \\tBitwise OR \\t\\n==  !=  >  >=  <  <=  is  is not  in  not in  \\tComparisons, identity, and membership operators \\t\\nnot \\tLogical NOT \\t\\nand \\tAND \\t\\nor \\tOR\\n'"
      ]
     },
     "execution_count": 14,
     "metadata": {},
     "output_type": "execute_result"
    }
   ],
   "source": [
    "\"\"\"\n",
    "PRECEDENCE ORDER :-\n",
    "() \tParentheses \t\n",
    "** \tExponentiation \t\n",
    "+x  -x  ~x \tUnary plus, unary minus, and bitwise NOT \t\n",
    "*  /  //  % \tMultiplication, division, floor division, and modulus \t\n",
    "+  - \tAddition and subtraction \t\n",
    "<<  >> \tBitwise left and right shifts \t\n",
    "& \tBitwise AND \t\n",
    "^ \tBitwise XOR \t\n",
    "| \tBitwise OR \t\n",
    "==  !=  >  >=  <  <=  is  is not  in  not in  \tComparisons, identity, and membership operators \t\n",
    "not \tLogical NOT \t\n",
    "and \tAND \t\n",
    "or \tOR\n",
    "\"\"\""
   ]
  },
  {
   "cell_type": "code",
   "execution_count": 15,
   "id": "cf282da1-8716-42d6-b315-07d2b54fcc0c",
   "metadata": {},
   "outputs": [
    {
     "name": "stdout",
     "output_type": "stream",
     "text": [
      "False\n",
      "False\n",
      "True\n",
      "True\n",
      "False\n"
     ]
    }
   ],
   "source": [
    "#Relational operator\n",
    "print(4>5)\n",
    "print(4>=5)\n",
    "print(4==4)\n",
    "print(4<=4)\n",
    "print(4!=4)"
   ]
  },
  {
   "cell_type": "code",
   "execution_count": 18,
   "id": "13886561-7e98-43b7-9fce-c921b6fa541d",
   "metadata": {},
   "outputs": [
    {
     "name": "stdout",
     "output_type": "stream",
     "text": [
      "0\n",
      "1\n",
      "False\n"
     ]
    }
   ],
   "source": [
    "#Logical operator(and ,for ,not)\n",
    "print(1 and 0)\n",
    "print(1 or 0)\n",
    "print(not 1)"
   ]
  },
  {
   "cell_type": "code",
   "execution_count": 23,
   "id": "38b72783-fe64-4f38-8c2e-884d8fcc2448",
   "metadata": {},
   "outputs": [
    {
     "name": "stdout",
     "output_type": "stream",
     "text": [
      "2\n",
      "3\n",
      "1\n",
      "-3\n",
      "1\n",
      "20\n"
     ]
    }
   ],
   "source": [
    "#Bitwise Operator\n",
    "# XOR = Dono same hai to 0 alag hai to 1(^)\n",
    "#bitwise not(~)=1 ka 0 ,0 ka 1\n",
    "print(2&3)\n",
    "print(2|3)\n",
    "print(2^3)\n",
    "print(~2)\n",
    "print(4>>2)\n",
    "print(5<<2)"
   ]
  },
  {
   "cell_type": "code",
   "execution_count": 27,
   "id": "0c2bd459-b850-4f06-b3fb-a4ee55acfbbc",
   "metadata": {},
   "outputs": [
    {
     "name": "stdout",
     "output_type": "stream",
     "text": [
      "4\n"
     ]
    }
   ],
   "source": [
    "#Assignment Operator(=)\n",
    "a=2\n",
    "a+=2\n",
    "print(a)"
   ]
  },
  {
   "cell_type": "code",
   "execution_count": 32,
   "id": "e6fb8b4f-ef32-4ea5-b398-4b6798a534ef",
   "metadata": {},
   "outputs": [
    {
     "name": "stdout",
     "output_type": "stream",
     "text": [
      "False\n"
     ]
    }
   ],
   "source": [
    "#Membership Operator(in,not in)\n",
    "print('D' not in \"Delhi\")"
   ]
  },
  {
   "cell_type": "code",
   "execution_count": 31,
   "id": "6d946f5f-d699-441a-a6ad-9840d0235fb2",
   "metadata": {},
   "outputs": [
    {
     "name": "stdout",
     "output_type": "stream",
     "text": [
      "True\n"
     ]
    }
   ],
   "source": [
    "print('D' in 'Delhi')"
   ]
  },
  {
   "cell_type": "code",
   "execution_count": 34,
   "id": "a6744044-63bf-4aac-bdf0-b1cd370c3fa7",
   "metadata": {},
   "outputs": [
    {
     "name": "stdout",
     "output_type": "stream",
     "text": [
      "False\n",
      "True\n"
     ]
    }
   ],
   "source": [
    "print(1 in [2,3,4,5,6])\n",
    "print(6 in [2,3,4,5,6])"
   ]
  },
  {
   "cell_type": "code",
   "execution_count": 41,
   "id": "c9133a2e-d9f4-47c5-ad13-5753d6171c9c",
   "metadata": {},
   "outputs": [
    {
     "name": "stdin",
     "output_type": "stream",
     "text": [
      "Enter 3 digit number 343\n"
     ]
    },
    {
     "name": "stdout",
     "output_type": "stream",
     "text": [
      "343\n",
      "10\n"
     ]
    }
   ],
   "source": [
    "# Input kaise lein?????\n",
    "number=int(input(\"Enter 3 digit number\"))\n",
    "print(number)\n",
    "a=number%10\n",
    "number=number//10\n",
    "b=number%10\n",
    "number=number//10\n",
    "c=number%10\n",
    "number=number//10\n",
    "print(a+b+c)"
   ]
  },
  {
   "cell_type": "markdown",
   "id": "0d86f1f6-3ea2-4831-80aa-bed4a459a233",
   "metadata": {},
   "source": [
    "number=int(input(\"Enter 3 digit number\"))\n",
    "print(number)\n",
    "a=0\n",
    "while(number!=0)\n",
    "    a=a+number%10\n",
    "    number=number/10\n",
    "print(a)"
   ]
  },
  {
   "cell_type": "code",
   "execution_count": 46,
   "id": "e9339ab9-77d1-46de-853e-17fc53ee6990",
   "metadata": {},
   "outputs": [
    {
     "name": "stdin",
     "output_type": "stream",
     "text": [
      "enter e-mail nishu123\n",
      "enter password nishu121\n"
     ]
    },
    {
     "name": "stdout",
     "output_type": "stream",
     "text": [
      "welcome\n"
     ]
    }
   ],
   "source": [
    "#IF-ELSE\n",
    "\"\"\"\n",
    "if condition:\n",
    "    code\n",
    "else condition\n",
    "    code\n",
    "\"\"\"\n",
    "email = input(\"enter e-mail\")\n",
    "password=input(\"enter password\")\n",
    "if email=='nishu123' and password=='nishu121':\n",
    "    print(\"welcome\")\n",
    "else:\n",
    "    print(\"Not Correct\")"
   ]
  },
  {
   "cell_type": "code",
   "execution_count": 54,
   "id": "3e51f8b2-664c-4042-94bd-72986068f492",
   "metadata": {},
   "outputs": [
    {
     "data": {
      "text/plain": [
       "14.0"
      ]
     },
     "execution_count": 54,
     "metadata": {},
     "output_type": "execute_result"
    }
   ],
   "source": [
    "#Modules--math\n",
    "import math\n",
    "\"\"\"\"\n",
    "math.factorial(5)\n",
    "math.floor(6.8)\n",
    "\"\"\"\n",
    "math.sqrt(196)"
   ]
  },
  {
   "cell_type": "code",
   "execution_count": 55,
   "id": "42f7283f-24ba-4d17-aeac-2d2330c2bbfb",
   "metadata": {},
   "outputs": [
    {
     "name": "stdout",
     "output_type": "stream",
     "text": [
      "['False', 'None', 'True', 'and', 'as', 'assert', 'async', 'await', 'break', 'class', 'continue', 'def', 'del', 'elif', 'else', 'except', 'finally', 'for', 'from', 'global', 'if', 'import', 'in', 'is', 'lambda', 'nonlocal', 'not', 'or', 'pass', 'raise', 'return', 'try', 'while', 'with', 'yield']\n"
     ]
    }
   ],
   "source": [
    "#module--Keyword\n",
    "import keyword\n",
    "print(keyword.kwlist)"
   ]
  },
  {
   "cell_type": "code",
   "execution_count": 57,
   "id": "881933e7-b437-4ebe-942a-9cf34c992594",
   "metadata": {},
   "outputs": [
    {
     "name": "stdout",
     "output_type": "stream",
     "text": [
      "72\n"
     ]
    }
   ],
   "source": [
    "#Module--random\n",
    "import random\n",
    "print(random.randint(1,100))"
   ]
  },
  {
   "cell_type": "code",
   "execution_count": 59,
   "id": "19038269-a2cc-42ee-8323-2a80e0772d2b",
   "metadata": {},
   "outputs": [
    {
     "name": "stdout",
     "output_type": "stream",
     "text": [
      "2024-07-10 05:52:55.225058\n"
     ]
    }
   ],
   "source": [
    "#Module--dateTime\n",
    "import datetime\n",
    "print(datetime.datetime.now())"
   ]
  },
  {
   "cell_type": "code",
   "execution_count": 64,
   "id": "58682786-be5c-4a6b-b8e0-6e707ec75150",
   "metadata": {},
   "outputs": [
    {
     "name": "stdout",
     "output_type": "stream",
     "text": [
      "\n",
      "Please wait a moment while I gather a list of all available modules...\n",
      "\n",
      "7f0197f6d050da244d93__mypyc comm                mimetypes           snowballstemmer\n",
      "IPython             commctrl            mistune             socket\n",
      "OpenSSL             compileall          mkl                 socketserver\n",
      "PIL                 concurrent          mkl_fft             socks\n",
      "PyQt5               conda               mmap                sockshandler\n",
      "__future__          conda_build         mmapfile            sortedcontainers\n",
      "__hello__           conda_content_trust mmsystem            soupsieve\n",
      "__phello__          conda_env           modulefinder        sphinx\n",
      "_abc                conda_index         more_itertools      sphinxify\n",
      "_aix_support        conda_libmamba_solver mpmath              sphinxthread\n",
      "_argon2_cffi_bindings conda_pack          msgpack             spyder\n",
      "_ast                conda_package_handling msilib              spyder_kernels\n",
      "_asyncio            conda_package_streaming msvcrt              sqlalchemy\n",
      "_bisect             conda_token         multidict           sqlite3\n",
      "_black_version      conf                multipledispatch    sre_compile\n",
      "_blake2             configparser        multiprocessing     sre_constants\n",
      "_brotli             constantly          mypy                sre_parse\n",
      "_bz2                contextlib          mypy_extensions     ssl\n",
      "_cffi_backend       contextvars         mypyc               sspi\n",
      "_codecs             contourpy           nacl                sspicon\n",
      "_codecs_cn          cookiecutter        navigator_updater   stack_data\n",
      "_codecs_hk          copy                nbclient            stat\n",
      "_codecs_iso2022     copyreg             nbconvert           statistics\n",
      "_codecs_jp          cpuinfo             nbformat            statsmodels\n",
      "_codecs_kr          crypt               nest_asyncio        streamlit\n",
      "_codecs_tw          cryptography        netbios             string\n",
      "_collections        cssselect           netrc               stringprep\n",
      "_collections_abc    csv                 networkx            struct\n",
      "_compat_pickle      ctypes              nltk                subprocess\n",
      "_compression        curl                nntplib             sunau\n",
      "_contextvars        curses              notebook            sympy\n",
      "_csv                cwp                 notebook_shim       symtable\n",
      "_ctypes             cycler              nt                  sys\n",
      "_ctypes_test        cytoolz             ntpath              sysconfig\n",
      "_datetime           dask                ntsecuritycon       tables\n",
      "_decimal            dask_expr           nturl2path          tabnanny\n",
      "_distutils_hack     dataclasses         numba               tabulate\n",
      "_elementtree        datashader          numbergen           tarfile\n",
      "_functools          datetime            numbers             tblib\n",
      "_hashlib            dateutil            numexpr             telnetlib\n",
      "_heapq              dbi                 numpy               tempfile\n",
      "_imp                dbm                 numpydoc            tenacity\n",
      "_io                 dde                 odbc                terminado\n",
      "_json               debugpy             opcode              test\n",
      "_locale             decimal             openpyxl            test_pycosat\n",
      "_lsprof             decorator           operator            text_unidecode\n",
      "_lzma               defusedxml          optparse            textdistance\n",
      "_markupbase         diff_match_patch    os                  textwrap\n",
      "_md5                difflib             overrides           this\n",
      "_msi                dill                packaging           threading\n",
      "_multibytecodec     dis                 pandas              threadpoolctl\n",
      "_multiprocessing    distributed         pandocfilters       three_merge\n",
      "_nsis               distro              panel               tifffile\n",
      "_opcode             docstring_to_markdown param               time\n",
      "_operator           doctest             paramiko            timeit\n",
      "_osx_support        docutils            parsel              timer\n",
      "_overlapped         dotenv              parso               tinycss2\n",
      "_pickle             email               partd               tkinter\n",
      "_plotly_future_     encodings           pathlib             tldextract\n",
      "_plotly_utils       ensurepip           pathspec            tlz\n",
      "_py_abc             entrypoints         patsy               token\n",
      "_pydatetime         enum                pdb                 tokenize\n",
      "_pydecimal          erfa                perfmon             toml\n",
      "_pyio               errno               pexpect             tomli\n",
      "_pylong             et_xmlfile          pickle              tomlkit\n",
      "_pytest             executing           pickleshare         tomllib\n",
      "_queue              fastjsonschema      pickletools         toolz\n",
      "_random             faulthandler        pip                 tornado\n",
      "_sha1               filecmp             pipes               tqdm\n",
      "_sha2               fileinput           pkce                trace\n",
      "_sha3               filelock            pkg_resources       traceback\n",
      "_signal             flake8              pkginfo             tracemalloc\n",
      "_sitebuiltins       flask               pkgutil             traitlets\n",
      "_socket             fnmatch             platform            truststore\n",
      "_sqlite3            fontTools           platformdirs        tty\n",
      "_sre                fractions           plistlib            turtle\n",
      "_ssl                frozendict          plotly              turtledemo\n",
      "_stat               frozenlist          pluggy              twisted\n",
      "_statistics         fsspec              ply                 types\n",
      "_string             ftplib              poplib              typing\n",
      "_strptime           functools           posixpath           typing_extensions\n",
      "_struct             gc                  pprint              tzdata\n",
      "_symtable           genericpath         profile             uc_micro\n",
      "_system_path        gensim              prometheus_client   ujson\n",
      "_testbuffer         getopt              prompt_toolkit      unicodedata\n",
      "_testcapi           getpass             protego             unicodedata2\n",
      "_testclinic         gettext             pstats              unidecode\n",
      "_testconsole        git                 psutil              unittest\n",
      "_testimportmultiple gitdb               pty                 untitled\n",
      "_testinternalcapi   glob                ptyprocess          untitled1\n",
      "_testmultiphase     graphlib            pure_eval           urllib\n",
      "_testsinglephase    greenlet            py                  urllib3\n",
      "_thread             gzip                py_compile          uu\n",
      "_threading_local    h5py                pyarrow             uuid\n",
      "_tkinter            hashlib             pyasn1              venv\n",
      "_tokenize           heapdict            pyasn1_modules      w3lib\n",
      "_tracemalloc        heapq               pyclbr              warnings\n",
      "_typing             hmac                pycodestyle         watchdog\n",
      "_uuid               holoviews           pycosat             wave\n",
      "_warnings           html                pycparser           wcwidth\n",
      "_weakref            http                pyct                weakref\n",
      "_weakrefset         hvplot              pycurl              webbrowser\n",
      "_win32sysloader     hyperlink           pydantic            webencodings\n",
      "_winapi             idlelib             pydantic_core       websocket\n",
      "_winxptheme         idna                pydeck              werkzeug\n",
      "_wmi                imagecodecs         pydispatch          whatthepatch\n",
      "_xxinterpchannels   imageio             pydoc               wheel\n",
      "_xxsubinterpreters  imagesize           pydoc_data          widgetsnbextension\n",
      "_yaml               imaplib             pydocstyle          win2kras\n",
      "_zoneinfo           imblearn            pyexpat             win32api\n",
      "abc                 imghdr              pyflakes            win32clipboard\n",
      "adodbapi            importlib           pygments            win32com\n",
      "afxres              importlib_metadata  pylab               win32con\n",
      "aifc                incremental         pylint              win32console\n",
      "aiobotocore         inflection          pylint_venv         win32cred\n",
      "aiohttp             iniconfig           pyls_spyder         win32crypt\n",
      "aioitertools        inspect             pylsp               win32cryptcon\n",
      "aiosignal           intake              pylsp_black         win32ctypes\n",
      "alabaster           intervaltree        pylsp_jsonrpc       win32event\n",
      "altair              io                  pyodbc              win32evtlog\n",
      "anaconda_anon_usage ipaddress           pyparsing           win32evtlogutil\n",
      "anaconda_catalogs   ipykernel           pytest              win32file\n",
      "anaconda_cloud_auth ipykernel_launcher  pythoncom           win32gui\n",
      "anaconda_navigator  ipython_genutils    pythonjsonlogger    win32gui_struct\n",
      "anaconda_project    ipywidgets          pytoolconfig        win32help\n",
      "annotated_types     isapi               pytz                win32inet\n",
      "antigravity         isort               pyviz_comms         win32inetcon\n",
      "anyio               isympy              pywin               win32job\n",
      "appdirs             itemadapter         pywin32_bootstrap   win32lz\n",
      "archspec            itemloaders         pywin32_testutil    win32net\n",
      "argon2              itertools           pywintypes          win32netcon\n",
      "argparse            itsdangerous        pywt                win32pdh\n",
      "array               jedi                qdarkstyle          win32pdhquery\n",
      "arrow               jellyfish           qstylizer           win32pdhutil\n",
      "ast                 jinja2              qtawesome           win32pipe\n",
      "astroid             jmespath            qtconsole           win32print\n",
      "astropy             joblib              qtpy                win32process\n",
      "astropy_iers_data   json                queue               win32profile\n",
      "asttokens           json5               queuelib            win32ras\n",
      "async_lru           jsonpatch           quopri              win32rcparser\n",
      "asyncio             jsonpointer         random              win32security\n",
      "atexit              jsonschema          rasutil             win32service\n",
      "atomicwrites        jsonschema_specifications re                  win32serviceutil\n",
      "attr                jupyter             referencing         win32timezone\n",
      "attrs               jupyter_client      regcheck            win32trace\n",
      "audioop             jupyter_console     regex               win32traceutil\n",
      "automat             jupyter_core        regutil             win32transaction\n",
      "autopep8            jupyter_events      repo_cli            win32ts\n",
      "babel               jupyter_lsp         reprlib             win32ui\n",
      "base64              jupyter_server      requests            win32uiole\n",
      "bcrypt              jupyter_server_terminals requests_file       win32verstamp\n",
      "bdb                 jupyterlab          requests_toolbelt   win32wnet\n",
      "binaryornot         jupyterlab_plotly   rfc3339_validator   win_inet_pton\n",
      "binascii            jupyterlab_pygments rfc3986_validator   winerror\n",
      "binstar_client      jupyterlab_server   rich                winioctlcon\n",
      "bisect              jupyterlab_widgets  rlcompleter         winnt\n",
      "black               jwt                 rope                winperf\n",
      "blackd              keyring             rpds                winpty\n",
      "bleach              keyword             rtree               winreg\n",
      "blib2to3            kiwisolver          ruamel_yaml         winsound\n",
      "blinker             lazy_loader         runpy               winxpgui\n",
      "bokeh               lazy_object_proxy   s3fs                winxptheme\n",
      "boltons             lckr_jupyterlab_variableinspector sched               wrapt\n",
      "botocore            lib2to3             scipy               wsgiref\n",
      "bottleneck          libarchive          scrapy              xarray\n",
      "brotli              libmambapy          seaborn             xdrlib\n",
      "bs4                 lief                secrets             xlwings\n",
      "builtins            linecache           select              xlwingsjs\n",
      "bz2                 linkify_it          selectors           xml\n",
      "cProfile            llvmlite            semver              xmlrpc\n",
      "cachetools          lmdb                send2trash          xxlimited\n",
      "calendar            locale              service_identity    xxlimited_35\n",
      "certifi             locket              servicemanager      xxsubtype\n",
      "cffi                logging             setuptools          xyzservices\n",
      "cgi                 lxml                shelve              yaml\n",
      "cgitb               lz4                 shlex               yapf\n",
      "chardet             lzma                shutil              yapf_third_party\n",
      "charset_normalizer  mailbox             signal              yapftests\n",
      "chunk               mailcap             sipbuild            yarl\n",
      "click               markdown            site                zict\n",
      "cloudpickle         markdown_it         six                 zipapp\n",
      "cmath               markupsafe          skimage             zipfile\n",
      "cmd                 marshal             sklearn             zipimport\n",
      "code                math                slugify             zipp\n",
      "codecs              matplotlib          smart_open          zlib\n",
      "codeop              matplotlib_inline   smmap               zmq\n",
      "collections         mccabe              smtplib             zoneinfo\n",
      "colorama            mdit_py_plugins     snappy              zope\n",
      "colorcet            mdurl               sndhdr              zstandard\n",
      "colorsys            menuinst            sniffio             \n",
      "\n",
      "Enter any module name to get more help.  Or, type \"modules spam\" to search\n",
      "for modules whose name or summary contain the string \"spam\".\n",
      "\n"
     ]
    }
   ],
   "source": [
    "help('modules')"
   ]
  },
  {
   "cell_type": "code",
   "execution_count": 65,
   "id": "bee5bc42-cf6d-4c4e-a48b-d5120c579b82",
   "metadata": {},
   "outputs": [
    {
     "name": "stdin",
     "output_type": "stream",
     "text": [
      "enter a number 4\n"
     ]
    },
    {
     "name": "stdout",
     "output_type": "stream",
     "text": [
      "4\n",
      "8\n",
      "12\n",
      "16\n",
      "20\n",
      "24\n",
      "28\n",
      "32\n",
      "36\n",
      "40\n"
     ]
    }
   ],
   "source": [
    "#loops \n",
    "num=int(input(\"enter a number\"))\n",
    "i=1\n",
    "while i<11:\n",
    "    print(num*i)\n",
    "    i+=1"
   ]
  },
  {
   "cell_type": "code",
   "execution_count": 67,
   "id": "67a32684-f9aa-4abc-9da0-e5131c0a291f",
   "metadata": {},
   "outputs": [
    {
     "name": "stdin",
     "output_type": "stream",
     "text": [
      "enter a number 67\n"
     ]
    },
    {
     "name": "stdout",
     "output_type": "stream",
     "text": [
      "67 * 1 = 67\n",
      "67 * 2 = 134\n",
      "67 * 3 = 201\n",
      "67 * 4 = 268\n",
      "67 * 5 = 335\n",
      "67 * 6 = 402\n",
      "67 * 7 = 469\n",
      "67 * 8 = 536\n",
      "67 * 9 = 603\n",
      "67 * 10 = 670\n"
     ]
    }
   ],
   "source": [
    "#loops \n",
    "num=int(input(\"enter a number\"))\n",
    "i=1\n",
    "while i<11:\n",
    "    print(num,'*',i,'=',num*i)\n",
    "    i+=1"
   ]
  },
  {
   "cell_type": "code",
   "execution_count": 1,
   "id": "18387976-e6ee-47ff-a9bb-979b7492b04a",
   "metadata": {},
   "outputs": [
    {
     "name": "stdout",
     "output_type": "stream",
     "text": [
      "1\n",
      "2\n",
      "limit crossed\n"
     ]
    }
   ],
   "source": [
    "#while loop with else\n",
    "x=1\n",
    "while x<3:\n",
    "    print(x)\n",
    "    x+=1\n",
    "else:\n",
    "    print(\"limit crossed\")\n"
   ]
  },
  {
   "cell_type": "code",
   "execution_count": null,
   "id": "f359bedf-99e0-45c2-b84d-59a9dd219f82",
   "metadata": {},
   "outputs": [],
   "source": []
  },
  {
   "cell_type": "code",
   "execution_count": 3,
   "id": "54cb914c-41e6-45be-9c92-c6815d2653e3",
   "metadata": {},
   "outputs": [
    {
     "name": "stdin",
     "output_type": "stream",
     "text": [
      "guess karo 78\n"
     ]
    },
    {
     "name": "stdout",
     "output_type": "stream",
     "text": [
      "galat,guess higher\n"
     ]
    },
    {
     "name": "stdin",
     "output_type": "stream",
     "text": [
      "guess again 89\n"
     ]
    },
    {
     "name": "stdout",
     "output_type": "stream",
     "text": [
      "galat,guess lower\n"
     ]
    },
    {
     "name": "stdin",
     "output_type": "stream",
     "text": [
      "guess again 80\n"
     ]
    },
    {
     "name": "stdout",
     "output_type": "stream",
     "text": [
      "galat,guess higher\n"
     ]
    },
    {
     "name": "stdin",
     "output_type": "stream",
     "text": [
      "guess again 85\n"
     ]
    },
    {
     "name": "stdout",
     "output_type": "stream",
     "text": [
      "galat,guess lower\n"
     ]
    },
    {
     "name": "stdin",
     "output_type": "stream",
     "text": [
      "guess again 83\n"
     ]
    },
    {
     "name": "stdout",
     "output_type": "stream",
     "text": [
      "galat,guess higher\n"
     ]
    },
    {
     "name": "stdin",
     "output_type": "stream",
     "text": [
      "guess again 84\n"
     ]
    },
    {
     "name": "stdout",
     "output_type": "stream",
     "text": [
      "correct guess\n",
      "attempts 6\n"
     ]
    }
   ],
   "source": [
    "#GUESSING GAME\n",
    "import random\n",
    "jackpot=random.randint(1,100)\n",
    "guess=int(input(\"guess karo\"))\n",
    "counter=1\n",
    "while guess != jackpot:\n",
    "    if guess<jackpot:\n",
    "        print(\"galat,guess higher\")\n",
    "    else:\n",
    "        print(\"galat,guess lower\")\n",
    "        \n",
    "    guess=int(input(\"guess again\"))\n",
    "    counter+=1\n",
    "else:\n",
    "    print(\"correct guess\")\n",
    "    print(\"attempts\",counter)"
   ]
  },
  {
   "cell_type": "code",
   "execution_count": 5,
   "id": "9ac58acb-80c4-436c-b366-14848409fa42",
   "metadata": {},
   "outputs": [
    {
     "name": "stdout",
     "output_type": "stream",
     "text": [
      "12\n",
      "14\n",
      "16\n",
      "18\n"
     ]
    }
   ],
   "source": [
    "#for loop\n",
    "for i in range(12,20,2):\n",
    "    print(i)"
   ]
  },
  {
   "cell_type": "code",
   "execution_count": 7,
   "id": "f7604c2d-bb3f-4993-8b77-5a491a0ef3c3",
   "metadata": {},
   "outputs": [
    {
     "name": "stdout",
     "output_type": "stream",
     "text": [
      "10\n",
      "9\n",
      "8\n",
      "7\n",
      "6\n",
      "5\n",
      "4\n",
      "3\n",
      "2\n",
      "1\n"
     ]
    }
   ],
   "source": [
    "for i in range(10,0,-1):\n",
    "    print(i)"
   ]
  },
  {
   "cell_type": "code",
   "execution_count": 9,
   "id": "f6606c17-4e91-4919-a8df-8f851943e068",
   "metadata": {},
   "outputs": [
    {
     "name": "stdout",
     "output_type": "stream",
     "text": [
      "D\n",
      "e\n",
      "l\n",
      "h\n",
      "i\n"
     ]
    }
   ],
   "source": [
    "for i in \"Delhi\":\n",
    "    print (i)"
   ]
  },
  {
   "cell_type": "code",
   "execution_count": 10,
   "id": "02b7bdc0-6572-4a1e-bca3-9ba855893b36",
   "metadata": {},
   "outputs": [
    {
     "name": "stdout",
     "output_type": "stream",
     "text": [
      "nishu\n",
      "is\n",
      "a\n",
      "goood\n",
      "girl\n"
     ]
    }
   ],
   "source": [
    "for i in [\"nishu\",\"is\",\"a\",\"goood\",\"girl\"]:\n",
    "    print(i)"
   ]
  },
  {
   "cell_type": "code",
   "execution_count": 11,
   "id": "a3b1fcef-58ab-4bc6-9322-726208f925b8",
   "metadata": {},
   "outputs": [
    {
     "name": "stdout",
     "output_type": "stream",
     "text": [
      "nishu\n",
      "a\n",
      "girl\n",
      "goood\n",
      "is\n"
     ]
    }
   ],
   "source": [
    "for i in {\"nishu\",\"is\",\"a\",\"goood\",\"girl\"}:\n",
    "    print(i)"
   ]
  },
  {
   "cell_type": "code",
   "execution_count": 12,
   "id": "4a7eaf0f-2841-4c39-82da-f1962414e736",
   "metadata": {},
   "outputs": [
    {
     "name": "stdout",
     "output_type": "stream",
     "text": [
      "nishu\n",
      "is\n",
      "a\n",
      "goood\n",
      "girl\n"
     ]
    }
   ],
   "source": [
    "for i in (\"nishu\",\"is\",\"a\",\"goood\",\"girl\"):\n",
    "    print(i)"
   ]
  },
  {
   "cell_type": "code",
   "execution_count": 14,
   "id": "70a77347-13bd-4ac7-b90c-8abfcfde60ad",
   "metadata": {},
   "outputs": [
    {
     "name": "stdout",
     "output_type": "stream",
     "text": [
      "10 10000\n",
      "9 9000.0\n",
      "8 8100.0\n",
      "7 7290.0\n",
      "6 6561.0\n",
      "5 5904.9\n",
      "4 5314.41\n",
      "3 4782.969\n",
      "2 4304.6721\n",
      "1 3874.20489\n"
     ]
    }
   ],
   "source": [
    "curr_pop=10000\n",
    "for i in range(10,0,-1):\n",
    "    print(i,curr_pop)\n",
    "    curr_pop-=0.1*curr_pop"
   ]
  },
  {
   "cell_type": "code",
   "execution_count": 26,
   "id": "9521ebbc-2db6-4356-bea0-fbdee2f7a394",
   "metadata": {},
   "outputs": [
    {
     "name": "stdin",
     "output_type": "stream",
     "text": [
      "Enter a number 2\n"
     ]
    },
    {
     "name": "stdout",
     "output_type": "stream",
     "text": [
      "The Sum Is 2.0\n"
     ]
    }
   ],
   "source": [
    "#Sequence sum\n",
    "#1/1!+2/2!+.....\n",
    "import math\n",
    "sum=0\n",
    "num=int(input(\"Enter a number\"))#6\n",
    "for i in range (1,num+1):\n",
    "    t=i/math.factorial(i)\n",
    "    sum+=t\n",
    "print(\"The Sum Is\" ,sum)"
   ]
  },
  {
   "cell_type": "code",
   "execution_count": 28,
   "id": "287fbbb3-17aa-49b4-861e-c3d8de43d099",
   "metadata": {},
   "outputs": [
    {
     "name": "stdin",
     "output_type": "stream",
     "text": [
      "Enter a number 3\n"
     ]
    },
    {
     "name": "stdout",
     "output_type": "stream",
     "text": [
      "2.5\n"
     ]
    }
   ],
   "source": [
    "n=int(input(\"Enter a number\"))#3\n",
    "result=0\n",
    "fact=1\n",
    "for i in range(1,n+1):\n",
    "    fact=fact*i      #1  1*2=2   2*3=6\n",
    "    result=result+i/fact  #0+1/1=1  1+2/2=2   2+3/6=2.5\n",
    "print(result)"
   ]
  },
  {
   "cell_type": "code",
   "execution_count": 29,
   "id": "98535389-fa52-4199-8704-c6265a5330ed",
   "metadata": {},
   "outputs": [
    {
     "name": "stdin",
     "output_type": "stream",
     "text": [
      "enter a first number 3\n",
      "enter a second number 5\n"
     ]
    },
    {
     "name": "stdout",
     "output_type": "stream",
     "text": [
      "max num 5\n"
     ]
    }
   ],
   "source": [
    "a=int(input(\"enter a first number\"))\n",
    "b=int(input(\"enter a second number\"))\n",
    "if(a>b):\n",
    "    print(\"max num\",a)\n",
    "else:\n",
    "    print(\"max num\",b)"
   ]
  },
  {
   "cell_type": "code",
   "execution_count": 34,
   "id": "26d217fe-46db-467e-8786-a2c7285b722f",
   "metadata": {},
   "outputs": [
    {
     "name": "stdin",
     "output_type": "stream",
     "text": [
      "enter a first number 56\n",
      "enter a second number 34\n"
     ]
    },
    {
     "name": "stdout",
     "output_type": "stream",
     "text": [
      "max num 56\n"
     ]
    }
   ],
   "source": [
    "a=int(input(\"enter a first number\"))\n",
    "b=int(input(\"enter a second number\"))\n",
    "def maximum(a,b):\n",
    "    if a>=b:\n",
    "        return a\n",
    "    else:\n",
    "        return b\n",
    "print(\"max num\",maximum(a,b))"
   ]
  },
  {
   "cell_type": "code",
   "execution_count": 32,
   "id": "fd81a20b-760e-4e2b-bb36-27f3944d8c87",
   "metadata": {},
   "outputs": [
    {
     "name": "stdin",
     "output_type": "stream",
     "text": [
      "enter a first number 6576\n",
      "enter a second number 988\n"
     ]
    },
    {
     "name": "stdout",
     "output_type": "stream",
     "text": [
      "6576\n"
     ]
    }
   ],
   "source": [
    "#Ternary Operator\n",
    "a=int(input(\"enter a first number\"))\n",
    "b=int(input(\"enter a second number\"))\n",
    "print(a if a>=b else b)"
   ]
  },
  {
   "cell_type": "code",
   "execution_count": 36,
   "id": "d7fc4c49-9592-4600-93bc-9e1e0704ab93",
   "metadata": {},
   "outputs": [
    {
     "name": "stdout",
     "output_type": "stream",
     "text": [
      "maximum num is : [4]\n"
     ]
    }
   ],
   "source": [
    "a=2;b=4\n",
    "x=[a if a>b else b]\n",
    "print(\"maximum num is :\",x)"
   ]
  },
  {
   "cell_type": "code",
   "execution_count": 39,
   "id": "1c5e8004-68c4-4878-9524-a95d790cd604",
   "metadata": {},
   "outputs": [
    {
     "name": "stdin",
     "output_type": "stream",
     "text": [
      "enter a first number 567\n",
      "enter a second number 56\n"
     ]
    },
    {
     "ename": "NameError",
     "evalue": "name 'sort' is not defined",
     "output_type": "error",
     "traceback": [
      "\u001b[1;31m---------------------------------------------------------------------------\u001b[0m",
      "\u001b[1;31mNameError\u001b[0m                                 Traceback (most recent call last)",
      "Cell \u001b[1;32mIn[39], line 4\u001b[0m\n\u001b[0;32m      2\u001b[0m a\u001b[38;5;241m=\u001b[39m\u001b[38;5;28mint\u001b[39m(\u001b[38;5;28minput\u001b[39m(\u001b[38;5;124m\"\u001b[39m\u001b[38;5;124menter a first number\u001b[39m\u001b[38;5;124m\"\u001b[39m))\n\u001b[0;32m      3\u001b[0m b\u001b[38;5;241m=\u001b[39m\u001b[38;5;28mint\u001b[39m(\u001b[38;5;28minput\u001b[39m(\u001b[38;5;124m\"\u001b[39m\u001b[38;5;124menter a second number\u001b[39m\u001b[38;5;124m\"\u001b[39m))\n\u001b[1;32m----> 4\u001b[0m c\u001b[38;5;241m=\u001b[39msort(a,b)\n\u001b[0;32m      5\u001b[0m \u001b[38;5;28mprint\u001b[39m(c(\u001b[38;5;241m-\u001b[39m\u001b[38;5;241m1\u001b[39m))\n",
      "\u001b[1;31mNameError\u001b[0m: name 'sort' is not defined"
     ]
    }
   ],
   "source": [
    "# sort()-------This method is used to sort element in ascending order\n"
   ]
  },
  {
   "cell_type": "code",
   "execution_count": 38,
   "id": "b1ef6d55-8f71-4e18-b767-12ef94d6db64",
   "metadata": {},
   "outputs": [
    {
     "name": "stdin",
     "output_type": "stream",
     "text": [
      "enter a first number 55\n",
      "enter a second number 34\n"
     ]
    },
    {
     "name": "stdout",
     "output_type": "stream",
     "text": [
      "55\n"
     ]
    }
   ],
   "source": [
    "a=int(input(\"enter a first number\"))\n",
    "b=int(input(\"enter a second number\"))\n",
    "x=[a,b]\n",
    "x.sort()\n",
    "print(x[-1])"
   ]
  },
  {
   "cell_type": "code",
   "execution_count": 42,
   "id": "1b98587c-c861-45bd-9f5c-ad3349129ae9",
   "metadata": {},
   "outputs": [
    {
     "name": "stdout",
     "output_type": "stream",
     "text": [
      "10\n",
      "5.5\n"
     ]
    }
   ],
   "source": [
    "#def double(x):\n",
    " #   return x*2\n",
    "double=lambda x:x*2\n",
    "avg =lambda x,y:(x+y)/2\n",
    "print(double(5))\n",
    "print (avg(5,6))"
   ]
  },
  {
   "cell_type": "code",
   "execution_count": 43,
   "id": "8c5b4cf4-2f28-4f04-bb78-6ec6786e0c9a",
   "metadata": {},
   "outputs": [
    {
     "name": "stdin",
     "output_type": "stream",
     "text": [
      "enter a first number 566\n",
      "enter a second number 878\n"
     ]
    },
    {
     "name": "stdout",
     "output_type": "stream",
     "text": [
      "878is a maximum number\n"
     ]
    }
   ],
   "source": [
    "a=int(input(\"enter a first number\"))\n",
    "b=int(input(\"enter a second number\"))\n",
    "x=lambda a,b:a if a>b else b\n",
    "print(f'{maximum (a,b)}is a maximum number')"
   ]
  },
  {
   "cell_type": "code",
   "execution_count": 44,
   "id": "61e4a5a0-83ce-4114-a577-fd07a2818531",
   "metadata": {},
   "outputs": [
    {
     "name": "stdin",
     "output_type": "stream",
     "text": [
      "enter a first number 5\n"
     ]
    },
    {
     "name": "stdout",
     "output_type": "stream",
     "text": [
      "120\n"
     ]
    }
   ],
   "source": [
    "#Factorial of a number\n",
    "a=int(input(\"enter a first number\"))#5\n",
    "fact=1\n",
    "for i in range(2,a+1):\n",
    "    fact=fact*i #2  2*3*4*5\n",
    "print(fact)"
   ]
  },
  {
   "cell_type": "code",
   "execution_count": 69,
   "id": "d99458fa-ce2f-49d8-bc08-4fad8a1c551a",
   "metadata": {},
   "outputs": [
    {
     "name": "stdin",
     "output_type": "stream",
     "text": [
      "enter a first number 5\n"
     ]
    },
    {
     "name": "stdout",
     "output_type": "stream",
     "text": [
      "factorial: 120\n"
     ]
    }
   ],
   "source": [
    "def factorial(a):\n",
    "    if a==1  or a==0:\n",
    "        return 1\n",
    "    else:\n",
    "         return a*factorial(a-1)\n",
    "a=int(input(\"enter a first number\"))\n",
    "print(\"factorial:\",factorial(a))\n"
   ]
  },
  {
   "cell_type": "code",
   "execution_count": 56,
   "id": "ef6d239a-1437-4141-98be-d45932ac6b1c",
   "metadata": {},
   "outputs": [
    {
     "name": "stdout",
     "output_type": "stream",
     "text": [
      "factorial is: 120\n"
     ]
    }
   ],
   "source": [
    "def factorial(n):\n",
    "    if n<0:\n",
    "        return 0\n",
    "    elif n==0 or n==1:\n",
    "        return 1\n",
    "    else:\n",
    "        fact=1\n",
    "        while n>1:\n",
    "            fact =fact*n\n",
    "            n=n-1\n",
    "        return fact\n",
    "num =5\n",
    "print(\"factorial is:\",factorial(num))"
   ]
  },
  {
   "cell_type": "code",
   "execution_count": 67,
   "id": "aa7ca04a-e5bd-420b-aaf1-f43c7793336b",
   "metadata": {},
   "outputs": [
    {
     "name": "stdin",
     "output_type": "stream",
     "text": [
      "enter a first number 10\n"
     ]
    },
    {
     "name": "stdout",
     "output_type": "stream",
     "text": [
      "3628800\n"
     ]
    }
   ],
   "source": [
    "import math\n",
    "a=int(input(\"enter a first number\"))\n",
    "print(math.factorial(a))"
   ]
  },
  {
   "cell_type": "code",
   "execution_count": 71,
   "id": "720781ca-d1a8-4f15-914e-4f16f5032dff",
   "metadata": {},
   "outputs": [
    {
     "ename": "TypeError",
     "evalue": "only integer scalar arrays can be converted to a scalar index",
     "output_type": "error",
     "traceback": [
      "\u001b[1;31m---------------------------------------------------------------------------\u001b[0m",
      "\u001b[1;31mTypeError\u001b[0m                                 Traceback (most recent call last)",
      "Cell \u001b[1;32mIn[71], line 4\u001b[0m\n\u001b[0;32m      2\u001b[0m s\u001b[38;5;241m=\u001b[39mnp\u001b[38;5;241m.\u001b[39marray([\u001b[38;5;241m1\u001b[39m,\u001b[38;5;241m2\u001b[39m,\u001b[38;5;241m3\u001b[39m,\u001b[38;5;241m4\u001b[39m,\u001b[38;5;241m5\u001b[39m])\n\u001b[0;32m      3\u001b[0m s2\u001b[38;5;241m=\u001b[39mnp\u001b[38;5;241m.\u001b[39marray([\u001b[38;5;241m5\u001b[39m,\u001b[38;5;241m6\u001b[39m,\u001b[38;5;241m7\u001b[39m,\u001b[38;5;241m8\u001b[39m])\n\u001b[1;32m----> 4\u001b[0m n\u001b[38;5;241m=\u001b[39mnp\u001b[38;5;241m.\u001b[39mprod(s,s2)\n\u001b[0;32m      5\u001b[0m \u001b[38;5;28mprint\u001b[39m(n)\n",
      "File \u001b[1;32m~\\anaconda3\\Lib\\site-packages\\numpy\\core\\fromnumeric.py:3100\u001b[0m, in \u001b[0;36mprod\u001b[1;34m(a, axis, dtype, out, keepdims, initial, where)\u001b[0m\n\u001b[0;32m   2979\u001b[0m \u001b[38;5;129m@array_function_dispatch\u001b[39m(_prod_dispatcher)\n\u001b[0;32m   2980\u001b[0m \u001b[38;5;28;01mdef\u001b[39;00m \u001b[38;5;21mprod\u001b[39m(a, axis\u001b[38;5;241m=\u001b[39m\u001b[38;5;28;01mNone\u001b[39;00m, dtype\u001b[38;5;241m=\u001b[39m\u001b[38;5;28;01mNone\u001b[39;00m, out\u001b[38;5;241m=\u001b[39m\u001b[38;5;28;01mNone\u001b[39;00m, keepdims\u001b[38;5;241m=\u001b[39mnp\u001b[38;5;241m.\u001b[39m_NoValue,\n\u001b[0;32m   2981\u001b[0m          initial\u001b[38;5;241m=\u001b[39mnp\u001b[38;5;241m.\u001b[39m_NoValue, where\u001b[38;5;241m=\u001b[39mnp\u001b[38;5;241m.\u001b[39m_NoValue):\n\u001b[0;32m   2982\u001b[0m \u001b[38;5;250m    \u001b[39m\u001b[38;5;124;03m\"\"\"\u001b[39;00m\n\u001b[0;32m   2983\u001b[0m \u001b[38;5;124;03m    Return the product of array elements over a given axis.\u001b[39;00m\n\u001b[0;32m   2984\u001b[0m \n\u001b[1;32m   (...)\u001b[0m\n\u001b[0;32m   3098\u001b[0m \u001b[38;5;124;03m    10\u001b[39;00m\n\u001b[0;32m   3099\u001b[0m \u001b[38;5;124;03m    \"\"\"\u001b[39;00m\n\u001b[1;32m-> 3100\u001b[0m     \u001b[38;5;28;01mreturn\u001b[39;00m _wrapreduction(a, np\u001b[38;5;241m.\u001b[39mmultiply, \u001b[38;5;124m'\u001b[39m\u001b[38;5;124mprod\u001b[39m\u001b[38;5;124m'\u001b[39m, axis, dtype, out,\n\u001b[0;32m   3101\u001b[0m                           keepdims\u001b[38;5;241m=\u001b[39mkeepdims, initial\u001b[38;5;241m=\u001b[39minitial, where\u001b[38;5;241m=\u001b[39mwhere)\n",
      "File \u001b[1;32m~\\anaconda3\\Lib\\site-packages\\numpy\\core\\fromnumeric.py:88\u001b[0m, in \u001b[0;36m_wrapreduction\u001b[1;34m(obj, ufunc, method, axis, dtype, out, **kwargs)\u001b[0m\n\u001b[0;32m     85\u001b[0m         \u001b[38;5;28;01melse\u001b[39;00m:\n\u001b[0;32m     86\u001b[0m             \u001b[38;5;28;01mreturn\u001b[39;00m reduction(axis\u001b[38;5;241m=\u001b[39maxis, out\u001b[38;5;241m=\u001b[39mout, \u001b[38;5;241m*\u001b[39m\u001b[38;5;241m*\u001b[39mpasskwargs)\n\u001b[1;32m---> 88\u001b[0m \u001b[38;5;28;01mreturn\u001b[39;00m ufunc\u001b[38;5;241m.\u001b[39mreduce(obj, axis, dtype, out, \u001b[38;5;241m*\u001b[39m\u001b[38;5;241m*\u001b[39mpasskwargs)\n",
      "\u001b[1;31mTypeError\u001b[0m: only integer scalar arrays can be converted to a scalar index"
     ]
    }
   ],
   "source": [
    "import numpy as np\n",
    "s=np.array([1,2,3,4,5])\n",
    "s2=np.array([5,6,7,8])\n",
    "n=np.prod(s,s2)\n",
    "print(n)\n"
   ]
  },
  {
   "cell_type": "code",
   "execution_count": 72,
   "id": "97c14c33-1839-45ab-823d-bf5972ec976f",
   "metadata": {},
   "outputs": [
    {
     "name": "stdout",
     "output_type": "stream",
     "text": [
      "Ford\n",
      "3\n",
      "['Ford', 'Volvo', 'BMW', 'Honda']\n"
     ]
    }
   ],
   "source": [
    "cars = [\"Ford\", \"Volvo\", \"BMW\"]\n",
    "x = len(cars)\n",
    "p=cars[0]\n",
    "print(p)\n",
    "print(x)\n",
    "cars.append(\"Honda\") \n",
    "print(cars)"
   ]
  },
  {
   "cell_type": "code",
   "execution_count": 73,
   "id": "07c605df-21a4-4535-b218-be2b8e9ea1ac",
   "metadata": {},
   "outputs": [
    {
     "name": "stdout",
     "output_type": "stream",
     "text": [
      "['Ford', 'BMW']\n"
     ]
    }
   ],
   "source": [
    "cars = [\"Ford\", \"Volvo\", \"BMW\"]\n",
    "cars.pop(1) \n",
    "print(cars)"
   ]
  },
  {
   "cell_type": "code",
   "execution_count": 74,
   "id": "d9d751b9-7b6c-47ed-9a80-16a78b89d775",
   "metadata": {},
   "outputs": [
    {
     "name": "stdout",
     "output_type": "stream",
     "text": [
      "[]\n"
     ]
    }
   ],
   "source": [
    "fruits = ['apple', 'banana', 'cherry', 'orange']\n",
    "\n",
    "fruits.clear()\n",
    "print(fruits)"
   ]
  },
  {
   "cell_type": "code",
   "execution_count": 75,
   "id": "c1a0ea50-551f-430c-95a1-654baaec5e8b",
   "metadata": {},
   "outputs": [
    {
     "name": "stdout",
     "output_type": "stream",
     "text": [
      "['apple', 'banana', 'cherry', 'orange']\n"
     ]
    }
   ],
   "source": [
    "fruits = ['apple', 'banana', 'cherry', 'orange']\n",
    "\n",
    "x = fruits.copy()\n",
    "print(fruits)"
   ]
  },
  {
   "cell_type": "code",
   "execution_count": 83,
   "id": "bbeb8fe9-81bd-4f09-b6a6-4fe6f2ec0b2f",
   "metadata": {},
   "outputs": [
    {
     "name": "stdout",
     "output_type": "stream",
     "text": [
      "['apple', 'banana', 'cherry', 'Ford', 'BMW', 'Volvo']\n",
      "[1, 4, 5, 9, 'apple', 'banana', 'cherry', 'Ford', 'BMW', 'Volvo']\n"
     ]
    }
   ],
   "source": [
    "fruits = ['apple', 'banana', 'cherry']\n",
    "cars = ['Ford', 'BMW', 'Volvo']\n",
    "points = [1, 4, 5, 9]\n",
    "fruits.extend(cars)\n",
    "points.extend(fruits)\n",
    "print(fruits)\n",
    "print(points)"
   ]
  },
  {
   "cell_type": "code",
   "execution_count": 84,
   "id": "a98f0d9d-3446-437c-804d-62b727b304ea",
   "metadata": {},
   "outputs": [
    {
     "name": "stdout",
     "output_type": "stream",
     "text": [
      "['apple', 'banana', 'cherry', 1, 4, 5, 9]\n"
     ]
    }
   ],
   "source": [
    "fruits = ['apple', 'banana', 'cherry']\n",
    "\n",
    "points = (1, 4, 5, 9)\n",
    "\n",
    "fruits.extend(points)\n",
    "\n",
    "print(fruits)"
   ]
  },
  {
   "cell_type": "code",
   "execution_count": 86,
   "id": "c22ae692-c8a0-4e5f-a7f4-3b2708e9b4da",
   "metadata": {},
   "outputs": [
    {
     "name": "stdout",
     "output_type": "stream",
     "text": [
      "2\n"
     ]
    }
   ],
   "source": [
    "fruits = ['apple', 'banana', 'cherry']\n",
    "x = fruits.index(\"cherry\")\n",
    "print(x)"
   ]
  },
  {
   "cell_type": "code",
   "execution_count": 88,
   "id": "ef15776f-f6af-4eb0-92eb-ac570c380a01",
   "metadata": {},
   "outputs": [
    {
     "name": "stdout",
     "output_type": "stream",
     "text": [
      "3\n"
     ]
    }
   ],
   "source": [
    "fruits = [4, 55, 64, 32, 16, 32]\n",
    "x = fruits.index(32)\n",
    "print(x)"
   ]
  },
  {
   "cell_type": "code",
   "execution_count": 89,
   "id": "eb61270b-0e6d-4f44-b977-c68b082b7aef",
   "metadata": {},
   "outputs": [
    {
     "name": "stdout",
     "output_type": "stream",
     "text": [
      "['apple', 'orange', 'banana', 'cherry']\n"
     ]
    }
   ],
   "source": [
    "#list.insert(pos, elmnt) \n",
    "fruits = ['apple', 'banana', 'cherry']\n",
    "fruits.insert(1, \"orange\")\n",
    "print(fruits)"
   ]
  },
  {
   "cell_type": "code",
   "execution_count": 90,
   "id": "6f8bb493-2cef-44f7-a482-3bdeb8cf4b8b",
   "metadata": {},
   "outputs": [
    {
     "name": "stdout",
     "output_type": "stream",
     "text": [
      "['apple', 'cherry']\n"
     ]
    }
   ],
   "source": [
    "fruits = ['apple', 'banana', 'cherry']\n",
    "fruits.remove(\"banana\") \n",
    "print(fruits)"
   ]
  },
  {
   "cell_type": "code",
   "execution_count": 91,
   "id": "3614dcf7-4991-4d9a-8fa3-0fc044f2fa73",
   "metadata": {},
   "outputs": [
    {
     "name": "stdout",
     "output_type": "stream",
     "text": [
      "['BMW', 'Ford', 'Volvo']\n"
     ]
    }
   ],
   "source": [
    "cars = ['Ford', 'BMW', 'Volvo']\n",
    "cars.sort() \n",
    "print(cars)"
   ]
  },
  {
   "cell_type": "code",
   "execution_count": 92,
   "id": "b7e5d6a0-8e6b-480e-8cdd-b09239a2b8f8",
   "metadata": {},
   "outputs": [
    {
     "name": "stdout",
     "output_type": "stream",
     "text": [
      "['Volvo', 'Ford', 'BMW']\n"
     ]
    }
   ],
   "source": [
    "cars = ['Ford', 'BMW', 'Volvo']\n",
    "cars.sort(reverse=True) \n",
    "print(cars)"
   ]
  },
  {
   "cell_type": "code",
   "execution_count": 1,
   "id": "bf4fa065-66e5-4e8c-9370-b868498ea275",
   "metadata": {},
   "outputs": [
    {
     "name": "stdout",
     "output_type": "stream",
     "text": [
      "[{'car': 'Mitsubishi', 'year': 2000}, {'car': 'Ford', 'year': 2005}, {'car': 'VW', 'year': 2011}, {'car': 'BMW', 'year': 2019}]\n",
      "range(0, 5)\n"
     ]
    }
   ],
   "source": [
    "def myFunc(e):\n",
    "  return e['year']\n",
    "\n",
    "cars = [\n",
    "  {'car': 'Ford', 'year': 2005},\n",
    "  {'car': 'Mitsubishi', 'year': 2000},\n",
    "  {'car': 'BMW', 'year': 2019},\n",
    "  {'car': 'VW', 'year': 2011}\n",
    "]\n",
    "\n",
    "cars.sort(key=myFunc)\n",
    "\n",
    "print(cars)\n",
    "print(range(5))"
   ]
  },
  {
   "cell_type": "code",
   "execution_count": 7,
   "id": "da619530-fec1-4653-aed0-645631412150",
   "metadata": {},
   "outputs": [
    {
     "name": "stdin",
     "output_type": "stream",
     "text": [
      "Enter a number 5\n"
     ]
    },
    {
     "name": "stdout",
     "output_type": "stream",
     "text": [
      " \n",
      "*  \n",
      "* *  \n",
      "* * *  \n",
      "* * * *  \n"
     ]
    }
   ],
   "source": [
    "n=int(input(\"Enter a number\"))\n",
    "for i in range(1,n+1):\n",
    "    for j in range (1,i):\n",
    "        print(\"*\",end=\" \")\n",
    "    print(\" \")"
   ]
  },
  {
   "cell_type": "code",
   "execution_count": 8,
   "id": "528bc316-a967-4967-b5d0-43b012ba942f",
   "metadata": {},
   "outputs": [
    {
     "name": "stdout",
     "output_type": "stream",
     "text": [
      "* * * * * "
     ]
    }
   ],
   "source": [
    "for j in range (1,6):\n",
    "        print(\"*\",end=\" \")"
   ]
  },
  {
   "cell_type": "code",
   "execution_count": 9,
   "id": "f1c2a055-4d88-4f19-ace8-834fa6cc96a5",
   "metadata": {},
   "outputs": [
    {
     "name": "stdout",
     "output_type": "stream",
     "text": [
      "*\n",
      "*\n",
      "*\n",
      "*\n",
      "*\n"
     ]
    }
   ],
   "source": [
    "for j in range (1,6):\n",
    "        print(\"*\")"
   ]
  },
  {
   "cell_type": "code",
   "execution_count": 10,
   "id": "8b1afd0c-99ef-4bba-b03f-ce7abd8c0ca7",
   "metadata": {},
   "outputs": [
    {
     "name": "stdout",
     "output_type": "stream",
     "text": [
      "I am Nishu\n",
      " \n",
      "I am studying Python\n"
     ]
    }
   ],
   "source": [
    "print(\"I am Nishu\")\n",
    "print(\" \")\n",
    "print(\"I am studying Python\")"
   ]
  },
  {
   "cell_type": "code",
   "execution_count": 12,
   "id": "05f29bd2-be50-4b49-bd68-51ac33c092c6",
   "metadata": {},
   "outputs": [
    {
     "name": "stdout",
     "output_type": "stream",
     "text": [
      "1\n",
      "2\n",
      "3\n",
      "4\n"
     ]
    }
   ],
   "source": [
    "#Break and Continue\n",
    "for i in range(1,11):\n",
    "    if i==5:\n",
    "        break\n",
    "    print(i)"
   ]
  },
  {
   "cell_type": "code",
   "execution_count": 13,
   "id": "cf813df7-3827-4221-8cc3-970df599ba2e",
   "metadata": {},
   "outputs": [
    {
     "name": "stdout",
     "output_type": "stream",
     "text": [
      "1\n",
      "2\n",
      "3\n",
      "4\n",
      "6\n",
      "7\n",
      "8\n",
      "9\n",
      "10\n"
     ]
    }
   ],
   "source": [
    "#continue mein uss particular value par execute nhi hoga\n",
    "for i in range(1,11):\n",
    "    if i==5:\n",
    "        continue\n",
    "    print(i)"
   ]
  },
  {
   "cell_type": "code",
   "execution_count": 15,
   "id": "931a33ab-544d-45fd-8130-78b51ff11d14",
   "metadata": {},
   "outputs": [],
   "source": [
    "#pass= baad mein dekhenge\n",
    "for i in range(1,11):\n",
    "    pass"
   ]
  },
  {
   "cell_type": "code",
   "execution_count": 16,
   "id": "6ac9863f-b42d-4cdd-8b49-fb898cebb042",
   "metadata": {},
   "outputs": [
    {
     "ename": "SyntaxError",
     "evalue": "unexpected character after line continuation character (3963045947.py, line 3)",
     "output_type": "error",
     "traceback": [
      "\u001b[1;36m  Cell \u001b[1;32mIn[16], line 3\u001b[1;36m\u001b[0m\n\u001b[1;33m    print(\"My name is\"\\NISHU\"\\ Kumari\")\u001b[0m\n\u001b[1;37m                       ^\u001b[0m\n\u001b[1;31mSyntaxError\u001b[0m\u001b[1;31m:\u001b[0m unexpected character after line continuation character\n"
     ]
    }
   ],
   "source": [
    "#creating ,accessing,adding chairs to,editing ,deleting,operation on,string (string)\n",
    "#string are sequence of unicode characters\n",
    "print(\"My name is\"NISHU\"\\ Kumari\")"
   ]
  },
  {
   "cell_type": "code",
   "execution_count": 18,
   "id": "af6226ab-ca8c-4693-bcb5-924cc2767e2e",
   "metadata": {},
   "outputs": [
    {
     "name": "stdout",
     "output_type": "stream",
     "text": [
      "hii \n",
      "everyone\n",
      "nishu\n"
     ]
    }
   ],
   "source": [
    "c=print(\"\"\"hii \"\"\")\n",
    "d=print('''everyone''')\n",
    "e=print(str(\"nishu\"))"
   ]
  },
  {
   "cell_type": "code",
   "execution_count": 22,
   "id": "d8dfbca2-3d40-4ba7-a75d-156b7e672d40",
   "metadata": {},
   "outputs": [
    {
     "name": "stdout",
     "output_type": "stream",
     "text": [
      "l\n",
      "o\n"
     ]
    }
   ],
   "source": [
    "#accessing substring\n",
    "c=\"hello\"\n",
    "print(c[2])\n",
    "print(c[-1])"
   ]
  },
  {
   "cell_type": "code",
   "execution_count": 29,
   "id": "de4175da-9b78-4b56-9b08-db752ee2b02c",
   "metadata": {},
   "outputs": [
    {
     "name": "stdout",
     "output_type": "stream",
     "text": [
      "hell\n",
      "llo world\n",
      "hello wo\n",
      "lo\n",
      "wr\n",
      "dlrow olleh\n"
     ]
    }
   ],
   "source": [
    "#slicing\n",
    "c=\"hello world\"\n",
    "print(c[0:4])\n",
    "print(c[2:])\n",
    "print(c[:8])\n",
    "print(c[2:6:2])\n",
    "#print(c[0:6:-1])---------wrong\n",
    "print(c[-5:-1:2])\n",
    "print(c[::-1])"
   ]
  },
  {
   "cell_type": "code",
   "execution_count": 32,
   "id": "3f044f9b-437c-461b-92e1-adc1e24df4f3",
   "metadata": {},
   "outputs": [
    {
     "name": "stdout",
     "output_type": "stream",
     "text": [
      "hello world\n",
      "*****\n",
      "hahahahahahahahahaha\n"
     ]
    }
   ],
   "source": [
    "#string are immutable data type\n",
    "#editing and deleting are not allowed\n",
    "#string operation\n",
    "print(\"hello\"+\" \"+\"world\")\n",
    "print(\"*\"*5)\n",
    "print(\"ha\"*10)"
   ]
  },
  {
   "cell_type": "code",
   "execution_count": 36,
   "id": "35f4c566-3e81-482a-83ff-ead5b4a475c9",
   "metadata": {},
   "outputs": [
    {
     "data": {
      "text/plain": [
       "False"
      ]
     },
     "execution_count": 36,
     "metadata": {},
     "output_type": "execute_result"
    }
   ],
   "source": [
    "\"hello\"==\"Hello\""
   ]
  },
  {
   "cell_type": "code",
   "execution_count": 35,
   "id": "14c8b6ff-8389-420e-a4a4-3b5a70ffafcf",
   "metadata": {},
   "outputs": [
    {
     "data": {
      "text/plain": [
       "True"
      ]
     },
     "execution_count": 35,
     "metadata": {},
     "output_type": "execute_result"
    }
   ],
   "source": [
    "\"hello\"!=\"Hello\""
   ]
  },
  {
   "cell_type": "code",
   "execution_count": 38,
   "id": "1e66d1d9-8872-48f8-8454-9769cd9ecd81",
   "metadata": {},
   "outputs": [
    {
     "data": {
      "text/plain": [
       "False"
      ]
     },
     "execution_count": 38,
     "metadata": {},
     "output_type": "execute_result"
    }
   ],
   "source": [
    "\"Mumbai\">\"pune\""
   ]
  },
  {
   "cell_type": "code",
   "execution_count": 40,
   "id": "8e9bec42-3399-4445-9208-2f7bf03ba59d",
   "metadata": {},
   "outputs": [
    {
     "data": {
      "text/plain": [
       "True"
      ]
     },
     "execution_count": 40,
     "metadata": {},
     "output_type": "execute_result"
    }
   ],
   "source": [
    "\"goa\"<\"gorakpur\""
   ]
  },
  {
   "cell_type": "code",
   "execution_count": 41,
   "id": "377fa8ba-815b-4e79-8884-f0c032d8e1a8",
   "metadata": {},
   "outputs": [
    {
     "data": {
      "text/plain": [
       "' '"
      ]
     },
     "execution_count": 41,
     "metadata": {},
     "output_type": "execute_result"
    }
   ],
   "source": [
    "# \"\"---->False         \"anything\"--------->True\n",
    "\"hello\" and \" \"#true and false==false  answer is \" \""
   ]
  },
  {
   "cell_type": "code",
   "execution_count": 45,
   "id": "76653d17-acb9-4a31-85b0-c240279420d6",
   "metadata": {},
   "outputs": [
    {
     "data": {
      "text/plain": [
       "'hii'"
      ]
     },
     "execution_count": 45,
     "metadata": {},
     "output_type": "execute_result"
    }
   ],
   "source": [
    "\"\" or \"hii\""
   ]
  },
  {
   "cell_type": "code",
   "execution_count": 46,
   "id": "363ab6eb-4946-4eba-bde4-397fbdaee260",
   "metadata": {},
   "outputs": [
    {
     "data": {
      "text/plain": [
       "'hello'"
      ]
     },
     "execution_count": 46,
     "metadata": {},
     "output_type": "execute_result"
    }
   ],
   "source": [
    "\"hello\" or \"world\""
   ]
  },
  {
   "cell_type": "code",
   "execution_count": 47,
   "id": "2a74d74c-a2e0-4b5f-b208-45291470cef1",
   "metadata": {},
   "outputs": [
    {
     "data": {
      "text/plain": [
       "'world'"
      ]
     },
     "execution_count": 47,
     "metadata": {},
     "output_type": "execute_result"
    }
   ],
   "source": [
    "\"hello\" and \"world\""
   ]
  },
  {
   "cell_type": "code",
   "execution_count": 48,
   "id": "f7a82dd3-90ef-47b0-a909-09b1a35062e6",
   "metadata": {},
   "outputs": [
    {
     "data": {
      "text/plain": [
       "False"
      ]
     },
     "execution_count": 48,
     "metadata": {},
     "output_type": "execute_result"
    }
   ],
   "source": [
    "not \"hello\""
   ]
  },
  {
   "cell_type": "code",
   "execution_count": 49,
   "id": "9500eadb-8319-4968-b2ab-acb0c91e93d1",
   "metadata": {},
   "outputs": [
    {
     "data": {
      "text/plain": [
       "True"
      ]
     },
     "execution_count": 49,
     "metadata": {},
     "output_type": "execute_result"
    }
   ],
   "source": [
    "not \"\""
   ]
  },
  {
   "cell_type": "code",
   "execution_count": 52,
   "id": "50bbd40a-297a-4420-8233-e6178d670fc4",
   "metadata": {},
   "outputs": [
    {
     "name": "stdout",
     "output_type": "stream",
     "text": [
      "h\n",
      "e\n",
      "l\n",
      "l\n",
      "o\n",
      "True\n",
      "False\n"
     ]
    }
   ],
   "source": [
    "d=\"hello\"\n",
    "for i in d:\n",
    "    print(i)\n",
    "print('h' in d)\n",
    "print('d' in d)"
   ]
  },
  {
   "cell_type": "code",
   "execution_count": 53,
   "id": "52918705-f3ab-4617-bc30-5064e4bc763f",
   "metadata": {},
   "outputs": [
    {
     "data": {
      "text/plain": [
       "'o'"
      ]
     },
     "execution_count": 53,
     "metadata": {},
     "output_type": "execute_result"
    }
   ],
   "source": [
    "d=\"hello\"\n",
    "max(d)"
   ]
  },
  {
   "cell_type": "code",
   "execution_count": 54,
   "id": "980ba0a1-cd79-4f17-bdc3-74c079d3f3f2",
   "metadata": {},
   "outputs": [
    {
     "data": {
      "text/plain": [
       "'e'"
      ]
     },
     "execution_count": 54,
     "metadata": {},
     "output_type": "execute_result"
    }
   ],
   "source": [
    "d=\"hello\"\n",
    "min(d)"
   ]
  },
  {
   "cell_type": "code",
   "execution_count": 55,
   "id": "c8316831-cef1-4c2b-afca-243c83434dbb",
   "metadata": {},
   "outputs": [
    {
     "data": {
      "text/plain": [
       "['e', 'h', 'l', 'l', 'o']"
      ]
     },
     "execution_count": 55,
     "metadata": {},
     "output_type": "execute_result"
    }
   ],
   "source": [
    "# sorted sort in order of Ascii value----------> get output in form of list\n",
    "d=\"hello\"\n",
    "sorted(d)"
   ]
  },
  {
   "cell_type": "code",
   "execution_count": 57,
   "id": "04249f49-ad11-4e65-97ae-305a372272f8",
   "metadata": {},
   "outputs": [
    {
     "data": {
      "text/plain": [
       "['o', 'l', 'l', 'h', 'e']"
      ]
     },
     "execution_count": 57,
     "metadata": {},
     "output_type": "execute_result"
    }
   ],
   "source": [
    "d=\"hello\"\n",
    "sorted(d,reverse=True)"
   ]
  },
  {
   "cell_type": "code",
   "execution_count": 58,
   "id": "78e4bd64-4dd2-4bd6-ae14-54a914d5bd08",
   "metadata": {},
   "outputs": [
    {
     "data": {
      "text/plain": [
       "'Hello'"
      ]
     },
     "execution_count": 58,
     "metadata": {},
     "output_type": "execute_result"
    }
   ],
   "source": [
    "#capitalise,title,Upper,Lower,Swapcase\n",
    "d=\"hello\"\n",
    "d.capitalize()"
   ]
  },
  {
   "cell_type": "code",
   "execution_count": 69,
   "id": "554171e6-ca4d-461f-96e0-2c6e3912649e",
   "metadata": {},
   "outputs": [
    {
     "name": "stdout",
     "output_type": "stream",
     "text": [
      "It Is Heavily Raining Today\n",
      "It is heavily raining today\n",
      "IT IS HEAVILY RAINING TODAY\n",
      "it is heavily raining today\n"
     ]
    }
   ],
   "source": [
    "d=\"It is heavily raining today\"\n",
    "print(d.title())\n",
    "print(d.capitalize())\n",
    "print(d.upper())\n",
    "print(d.lower())"
   ]
  },
  {
   "cell_type": "code",
   "execution_count": 77,
   "id": "d6dfd9e9-7ea9-493e-85dd-c643d5aaaeea",
   "metadata": {},
   "outputs": [
    {
     "data": {
      "text/plain": [
       "'KOLkata'"
      ]
     },
     "execution_count": 77,
     "metadata": {},
     "output_type": "execute_result"
    }
   ],
   "source": [
    "#swapcase()------>capital ko smaller vice versa\n",
    "\"kolKATA\".swapcase()"
   ]
  },
  {
   "cell_type": "code",
   "execution_count": 81,
   "id": "d11f5a34-10b3-4313-a922-aa558f21c718",
   "metadata": {},
   "outputs": [
    {
     "name": "stdout",
     "output_type": "stream",
     "text": [
      "3\n"
     ]
    }
   ],
   "source": [
    "d=\"It is heavily raining today\".count(\"a\")\n",
    "print(d)"
   ]
  },
  {
   "cell_type": "code",
   "execution_count": 84,
   "id": "628e2899-f800-489b-a90d-92b10a79e3bb",
   "metadata": {},
   "outputs": [
    {
     "name": "stdout",
     "output_type": "stream",
     "text": [
      "8\n",
      "3\n",
      "False\n"
     ]
    }
   ],
   "source": [
    "#index throws error when str is not found but find does not \n",
    "d=\"It is heavily raining today\".find(\"a\")\n",
    "e=\"It is heavily raining today\".find(\"is\")\n",
    "f=\"It is heavily raining today\".endswith(\"a\")\n",
    "print(d)\n",
    "print(e)\n",
    "print(f)"
   ]
  },
  {
   "cell_type": "code",
   "execution_count": 87,
   "id": "b9bb7d54-47b5-499b-905d-5b2b5415b9e9",
   "metadata": {},
   "outputs": [
    {
     "name": "stdout",
     "output_type": "stream",
     "text": [
      "hello my name is Nitish and age is30\n"
     ]
    }
   ],
   "source": [
    "#format\n",
    "print(\"hello my name is {} and age is{}\".format(\"Nitish\",30))"
   ]
  },
  {
   "cell_type": "code",
   "execution_count": 88,
   "id": "e26e0c83-92ee-44e0-b95b-49e7bb25e489",
   "metadata": {},
   "outputs": [
    {
     "data": {
      "text/plain": [
       "'hello my name is 30 and age isNitish'"
      ]
     },
     "execution_count": 88,
     "metadata": {},
     "output_type": "execute_result"
    }
   ],
   "source": [
    "\"hello my name is {1} and age is{0}\".format(\"Nitish\",30)"
   ]
  },
  {
   "cell_type": "code",
   "execution_count": 90,
   "id": "e6eb3d9b-2e59-48fc-8c91-65483b94f1c4",
   "metadata": {},
   "outputs": [
    {
     "data": {
      "text/plain": [
       "'hello my name is 30 and age isNitish'"
      ]
     },
     "execution_count": 90,
     "metadata": {},
     "output_type": "execute_result"
    }
   ],
   "source": [
    "\"hello my name is {age} and age is{name}\".format(name=\"Nitish\",age=30)"
   ]
  },
  {
   "cell_type": "code",
   "execution_count": 92,
   "id": "2b0fc418-6aa7-41fa-94a8-6a49acd4c850",
   "metadata": {},
   "outputs": [
    {
     "data": {
      "text/plain": [
       "True"
      ]
     },
     "execution_count": 92,
     "metadata": {},
     "output_type": "execute_result"
    }
   ],
   "source": [
    "\"hello_world\".isidentifier()"
   ]
  },
  {
   "cell_type": "code",
   "execution_count": 96,
   "id": "7a4bdcaf-4628-4613-9453-b45ec87aba2f",
   "metadata": {},
   "outputs": [
    {
     "name": "stdout",
     "output_type": "stream",
     "text": [
      "['who', 'is', 'it', '?']\n",
      "['who ', 's ', 't ?']\n"
     ]
    }
   ],
   "source": [
    "p=\"who is it ?\".split()\n",
    "print(p)\n",
    "q=\"who is it ?\".split(\"i\")\n",
    "print(q)"
   ]
  },
  {
   "cell_type": "code",
   "execution_count": 100,
   "id": "882ea702-d2ae-4b73-ae61-4bcc236a99cc",
   "metadata": {},
   "outputs": [
    {
     "data": {
      "text/plain": [
       "'who is it ?'"
      ]
     },
     "execution_count": 100,
     "metadata": {},
     "output_type": "execute_result"
    }
   ],
   "source": [
    "\" \".join(['who', 'is', 'it', '?'])"
   ]
  },
  {
   "cell_type": "code",
   "execution_count": 102,
   "id": "523aff2c-cbe3-47be-b164-9771887c41c4",
   "metadata": {},
   "outputs": [
    {
     "data": {
      "text/plain": [
       "'hii,i am mahima'"
      ]
     },
     "execution_count": 102,
     "metadata": {},
     "output_type": "execute_result"
    }
   ],
   "source": [
    "\"hii,i am Nishu\".replace(\"Nishu\",\"mahima\")"
   ]
  },
  {
   "cell_type": "code",
   "execution_count": 104,
   "id": "b72f187c-d0a9-49ff-bbb7-e791726d234e",
   "metadata": {},
   "outputs": [
    {
     "name": "stdout",
     "output_type": "stream",
     "text": [
      "        nishu         \n"
     ]
    },
    {
     "data": {
      "text/plain": [
       "'nishu'"
      ]
     },
     "execution_count": 104,
     "metadata": {},
     "output_type": "execute_result"
    }
   ],
   "source": [
    "name=\"        nishu         \"\n",
    "print(name)\n",
    "name.strip()"
   ]
  },
  {
   "cell_type": "code",
   "execution_count": 119,
   "id": "f47da13f-7ae4-4ec7-b57d-ad2f664494a5",
   "metadata": {},
   "outputs": [
    {
     "name": "stdout",
     "output_type": "stream",
     "text": [
      "[1, 2, [4, 5]]\n",
      "[[[1, 2], [3, 4]], [[5, 6], [7, 8]]]\n",
      "['h', 'a', 'l', 'd', 'i', 'a']\n",
      "['hello', 4, 5, 6, True, (5+6j)]\n",
      "4\n",
      "6\n",
      "7\n"
     ]
    }
   ],
   "source": [
    "#array=homogenous   list==hetrogenous\n",
    "#array mein ek ke baad ek store hota hai\n",
    "#array mein computation much faster\n",
    "#list are more programmer friendly\n",
    "#2d \n",
    "l1=[1,2,[4,5]]\n",
    "#3d \n",
    "l2=[[[1,2],[3,4]],[[5,6],[7,8]]]\n",
    "l3=list(\"haldia\")\n",
    "l4=[\"hello\",4,5,6,True,5+6j]\n",
    "print(l1)\n",
    "print(l2)\n",
    "print(l3)\n",
    "print(l4)\n",
    "l2[0]\n",
    "l4[1:]\n",
    "x=l1[-1]\n",
    "print(x[0])\n",
    "print(l2[1][0][1])\n",
    "print(l2[1][1][0])"
   ]
  },
  {
   "cell_type": "code",
   "execution_count": 121,
   "id": "1467c8a3-84b9-4436-9a7c-1a13f8a757c0",
   "metadata": {},
   "outputs": [
    {
     "name": "stdout",
     "output_type": "stream",
     "text": [
      "[1, 2, 3, 4, 7]\n"
     ]
    }
   ],
   "source": [
    "#list in python are mutable\n",
    "l=[1,2,3,4,5]\n",
    "l[-1]=7\n",
    "print(l)"
   ]
  },
  {
   "cell_type": "code",
   "execution_count": 122,
   "id": "1faa6bdc-b195-48ea-b109-e3b272fc2f8e",
   "metadata": {},
   "outputs": [
    {
     "name": "stdout",
     "output_type": "stream",
     "text": [
      "[1, 200, 300, 400, 5]\n"
     ]
    }
   ],
   "source": [
    "l=[1,2,3,4,5]\n",
    "l[1:4]=[200,300,400]\n",
    "print(l)"
   ]
  },
  {
   "cell_type": "code",
   "execution_count": 129,
   "id": "7450e791-06b2-437d-a39c-b770df758434",
   "metadata": {},
   "outputs": [
    {
     "name": "stdout",
     "output_type": "stream",
     "text": [
      "[1, 2, 3, 4, 5, 54, 78, 96]\n"
     ]
    }
   ],
   "source": [
    "#adding item in list ----->append(only one item)  -->extend(many items )    ---->insert\n",
    "l=[1,2,3,4,5]\n",
    "#l.append(1000)\n",
    "l.extend([54,78,96])\n",
    "print(l)"
   ]
  },
  {
   "cell_type": "code",
   "execution_count": 135,
   "id": "a31ea423-13cc-43f5-a79b-d8e4d5222546",
   "metadata": {},
   "outputs": [
    {
     "name": "stdout",
     "output_type": "stream",
     "text": [
      "[1, 2, 3, 4, 5, 'g', 'o', 'a']\n"
     ]
    }
   ],
   "source": [
    "l=[1,2,3,4,5]\n",
    "l.extend('goa')\n",
    "print(l)"
   ]
  },
  {
   "cell_type": "code",
   "execution_count": 136,
   "id": "74af1ae0-20b3-4d67-bf39-3a68fdf52071",
   "metadata": {},
   "outputs": [
    {
     "name": "stdout",
     "output_type": "stream",
     "text": [
      "[1, 'world', 2, 3, 4, 5]\n"
     ]
    }
   ],
   "source": [
    "l=[1,2,3,4,5]\n",
    "l.insert(1,\"world\")\n",
    "print(l)"
   ]
  },
  {
   "cell_type": "code",
   "execution_count": 137,
   "id": "f5d6348f-e86a-46a4-8ce1-5a7b784ed727",
   "metadata": {},
   "outputs": [
    {
     "name": "stdout",
     "output_type": "stream",
     "text": [
      "[2, 3, 4, 5]\n"
     ]
    }
   ],
   "source": [
    "#delete    ------>del    ------>remove      --------->pop(to delete last element)       --------->clear\n",
    "l=[1,2,3,4,5]\n",
    "del(l[0])\n",
    "print(l)"
   ]
  },
  {
   "cell_type": "code",
   "execution_count": 138,
   "id": "7201bafb-0657-4b47-a903-b3c17768b763",
   "metadata": {},
   "outputs": [
    {
     "name": "stdout",
     "output_type": "stream",
     "text": [
      "[1, 2, 3, 4, 5]\n"
     ]
    }
   ],
   "source": [
    "l=[1, 2, 3, 4, 5, 'g', 'o', 'a']\n",
    "del l[-3:]\n",
    "print(l)"
   ]
  },
  {
   "cell_type": "code",
   "execution_count": 141,
   "id": "f53666e7-6ee3-4731-bb06-c01a6d925057",
   "metadata": {},
   "outputs": [
    {
     "name": "stdout",
     "output_type": "stream",
     "text": [
      "[1, 2, 3, 4, 5, 'o', 'a']\n"
     ]
    }
   ],
   "source": [
    "l=[1, 2, 3, 4, 5, 'g', 'o', 'a']\n",
    "l.remove(\"g\")\n",
    "print(l)"
   ]
  },
  {
   "cell_type": "code",
   "execution_count": 142,
   "id": "f0178eab-ffb8-4c82-9568-00e282891947",
   "metadata": {},
   "outputs": [
    {
     "name": "stdout",
     "output_type": "stream",
     "text": [
      "[1, 2, 3, 4, 5, 'g', 'o']\n"
     ]
    }
   ],
   "source": [
    "l=[1, 2, 3, 4, 5, 'g', 'o', 'a']\n",
    "l.pop()\n",
    "print(l)"
   ]
  },
  {
   "cell_type": "code",
   "execution_count": 143,
   "id": "5c431c54-7ec4-4425-b1f3-f18f5ca3b445",
   "metadata": {},
   "outputs": [
    {
     "name": "stdout",
     "output_type": "stream",
     "text": [
      "[]\n"
     ]
    }
   ],
   "source": [
    "l=[1, 2, 3, 4, 5, 'g', 'o', 'a']\n",
    "l.clear()\n",
    "print(l)"
   ]
  },
  {
   "cell_type": "code",
   "execution_count": 146,
   "id": "39e246af-be1f-403c-b593-211a53471676",
   "metadata": {},
   "outputs": [
    {
     "name": "stdout",
     "output_type": "stream",
     "text": [
      "[1, 2, 3, 4, 5, 8, 9, 7, 6, 5]\n",
      "[1, 2, 3, 4, 5, 1, 2, 3, 4, 5, 1, 2, 3, 4, 5]\n",
      "1\n",
      "2\n",
      "3\n",
      "4\n",
      "5\n"
     ]
    }
   ],
   "source": [
    "l=[1, 2, 3, 4, 5]\n",
    "l1=[8,9,7,6,5]\n",
    "print(l+l1)\n",
    "print(l*3)\n",
    "for i in l:\n",
    "    print(i)"
   ]
  },
  {
   "cell_type": "code",
   "execution_count": 154,
   "id": "65a9b9cd-d6fe-49dd-8fdd-6018c3d538a2",
   "metadata": {},
   "outputs": [
    {
     "ename": "SyntaxError",
     "evalue": "expression cannot contain assignment, perhaps you meant \"==\"? (2131140066.py, line 5)",
     "output_type": "error",
     "traceback": [
      "\u001b[1;36m  Cell \u001b[1;32mIn[154], line 5\u001b[1;36m\u001b[0m\n\u001b[1;33m    print(sorted(l.reverse=true))\u001b[0m\n\u001b[1;37m                 ^\u001b[0m\n\u001b[1;31mSyntaxError\u001b[0m\u001b[1;31m:\u001b[0m expression cannot contain assignment, perhaps you meant \"==\"?\n"
     ]
    }
   ],
   "source": [
    "l=[1, 2, 3, 4, 5, 8, 9, 7, 6, 5]\n",
    "print(len(l))\n",
    "print(min(l))\n",
    "print(max(l))\n",
    "sorted(l.reverse=true)"
   ]
  },
  {
   "cell_type": "code",
   "execution_count": 155,
   "id": "433b03b4-fa68-4fa6-be83-f76c4fb9312b",
   "metadata": {},
   "outputs": [
    {
     "ename": "SyntaxError",
     "evalue": "expression cannot contain assignment, perhaps you meant \"==\"? (3758391500.py, line 2)",
     "output_type": "error",
     "traceback": [
      "\u001b[1;36m  Cell \u001b[1;32mIn[155], line 2\u001b[1;36m\u001b[0m\n\u001b[1;33m    sorted(l.reverse=true)\u001b[0m\n\u001b[1;37m           ^\u001b[0m\n\u001b[1;31mSyntaxError\u001b[0m\u001b[1;31m:\u001b[0m expression cannot contain assignment, perhaps you meant \"==\"?\n"
     ]
    }
   ],
   "source": [
    "l=[1, 2, 3, 4, 5, 8, 9, 7, 6, 5]\n",
    "sorted(l.reverse=true)\n",
    "print(l)"
   ]
  },
  {
   "cell_type": "code",
   "execution_count": 161,
   "id": "8feada7c-6a57-4ee6-aa22-174d14500356",
   "metadata": {},
   "outputs": [
    {
     "name": "stdin",
     "output_type": "stream",
     "text": [
      "enter a number to find its factorial 5\n"
     ]
    },
    {
     "data": {
      "text/plain": [
       "120"
      ]
     },
     "execution_count": 161,
     "metadata": {},
     "output_type": "execute_result"
    }
   ],
   "source": [
    "a=int(input(\"enter a number to find its factorial\"))\n",
    "def factorial(a):\n",
    "    t=1\n",
    "    for i in range(2,n+1):\n",
    "        t=t*i\n",
    "    return(t)\n",
    "factorial(a)"
   ]
  },
  {
   "cell_type": "code",
   "execution_count": 164,
   "id": "70d25d72-4d4a-450c-b18a-e2abb6ad1e8c",
   "metadata": {},
   "outputs": [
    {
     "name": "stdout",
     "output_type": "stream",
     "text": [
      "120\n"
     ]
    }
   ],
   "source": [
    "import numpy\n",
    "n=5\n",
    "x=numpy.prod([i for i in range(1,n+1)])\n",
    "print(x)"
   ]
  },
  {
   "cell_type": "code",
   "execution_count": 167,
   "id": "20c1c975-8b83-40a0-8282-f2afb41fba05",
   "metadata": {},
   "outputs": [
    {
     "name": "stdout",
     "output_type": "stream",
     "text": [
      "factorial is  120\n"
     ]
    }
   ],
   "source": [
    "import math\n",
    "def fact(n):\n",
    "    return(math.factorial(n))\n",
    "num=5\n",
    "print(\"factorial is \",fact(num))"
   ]
  },
  {
   "cell_type": "code",
   "execution_count": 168,
   "id": "93becd17-1c8b-47d7-8ba7-6d0189dc3db7",
   "metadata": {},
   "outputs": [
    {
     "name": "stdout",
     "output_type": "stream",
     "text": [
      "factorial is  120\n"
     ]
    }
   ],
   "source": [
    "def factorial(n):\n",
    "    return 1 if (n==1 or n==0) else n*factorial(n-1)\n",
    "num=5\n",
    "print(\"factorial is \",factorial(num))"
   ]
  },
  {
   "cell_type": "code",
   "execution_count": 169,
   "id": "959ff0ba-1ebc-4bef-ab56-d7d82d67d986",
   "metadata": {},
   "outputs": [
    {
     "name": "stdout",
     "output_type": "stream",
     "text": [
      "factorial is  120\n"
     ]
    }
   ],
   "source": [
    "def factorial(n):\n",
    "    if(n<0):\n",
    "        return 0\n",
    "    elif(n==1 or n==0):\n",
    "        return 1\n",
    "    else:\n",
    "        fact=1\n",
    "        while(n>1):\n",
    "            fact=fact*n\n",
    "            n=n-1\n",
    "        return fact\n",
    "num=5\n",
    "print(\"factorial is \",factorial(num))"
   ]
  },
  {
   "cell_type": "code",
   "execution_count": 175,
   "id": "96f5d7d3-ea9b-477e-87dd-47bca36cf321",
   "metadata": {},
   "outputs": [
    {
     "name": "stdout",
     "output_type": "stream",
     "text": [
      "compound interest is 472.87500000000045\n"
     ]
    }
   ],
   "source": [
    "def comp_interest(principal,rate,time):\n",
    "    amount=principal*(1+(rate/100))**time\n",
    "    ci=amount-principal\n",
    "    print(\"compound interest is\",ci)\n",
    "comp_interest(3000,5,3)"
   ]
  },
  {
   "cell_type": "code",
   "execution_count": 188,
   "id": "e614a671-9c3f-4f81-8b82-a7942ad4b767",
   "metadata": {},
   "outputs": [
    {
     "name": "stdin",
     "output_type": "stream",
     "text": [
      "Enter a number to check whether it is armstrong 153\n"
     ]
    },
    {
     "name": "stdout",
     "output_type": "stream",
     "text": [
      "3\n",
      "it is not a armstrong number\n"
     ]
    }
   ],
   "source": [
    "#Armstrong number\n",
    "n=int(input(\"Enter a number to check whether it is armstrong\"))\n",
    "N=n\n",
    "S=n\n",
    "c=0\n",
    "#counting digit\n",
    "while(n!=0):\n",
    "    n=n//10\n",
    "    c=c+1\n",
    "p=c\n",
    "print(c)\n",
    "while(N>0):\n",
    "    t=t+pow((N%10),p)\n",
    "    N=N//10\n",
    "if(S==t):\n",
    "    print(\"it is a armstrong number\")\n",
    "else:\n",
    "    print(\"it is not a armstrong number\")"
   ]
  },
  {
   "cell_type": "code",
   "execution_count": 178,
   "id": "bcc3f9a8-a7ba-4e66-9796-42f27dc9949d",
   "metadata": {},
   "outputs": [
    {
     "data": {
      "text/plain": [
       "16"
      ]
     },
     "execution_count": 178,
     "metadata": {},
     "output_type": "execute_result"
    }
   ],
   "source": [
    "pow(2,4)"
   ]
  },
  {
   "cell_type": "code",
   "execution_count": 185,
   "id": "7a56ca48-9b32-4428-a24d-7832b4105e45",
   "metadata": {},
   "outputs": [
    {
     "data": {
      "text/plain": [
       "2"
      ]
     },
     "execution_count": 185,
     "metadata": {},
     "output_type": "execute_result"
    }
   ],
   "source": [
    "22//10"
   ]
  },
  {
   "cell_type": "code",
   "execution_count": 192,
   "id": "9f74149d-1945-4d06-b5c0-e2af6fb2921f",
   "metadata": {},
   "outputs": [
    {
     "name": "stdout",
     "output_type": "stream",
     "text": [
      "153 is an Armstrong number.\n"
     ]
    }
   ],
   "source": [
    "def is_armstrong(number):\n",
    "    num_str = str(number)\n",
    "    num_len = len(num_str)\n",
    "    total_sum = 0\n",
    "    for digit in num_str:\n",
    "        total_sum += int(digit) ** num_len\n",
    "    return total_sum == number\n",
    "number = 153\n",
    "if is_armstrong(number):\n",
    "    print(f\"{number} is an Armstrong number.\")\n",
    "else:\n",
    "    print(f\"{number} is not an Armstrong number.\")"
   ]
  },
  {
   "cell_type": "code",
   "execution_count": null,
   "id": "b8e7b98e-3037-4ffd-b50e-96e45bc891e8",
   "metadata": {},
   "outputs": [],
   "source": []
  },
  {
   "cell_type": "code",
   "execution_count": null,
   "id": "23f82e94-1e80-409f-b8b0-c670ec142fd6",
   "metadata": {},
   "outputs": [],
   "source": []
  }
 ],
 "metadata": {
  "kernelspec": {
   "display_name": "Python 3 (ipykernel)",
   "language": "python",
   "name": "python3"
  },
  "language_info": {
   "codemirror_mode": {
    "name": "ipython",
    "version": 3
   },
   "file_extension": ".py",
   "mimetype": "text/x-python",
   "name": "python",
   "nbconvert_exporter": "python",
   "pygments_lexer": "ipython3",
   "version": "3.12.4"
  }
 },
 "nbformat": 4,
 "nbformat_minor": 5
}
